{
 "cells": [
  {
   "metadata": {
    "ExecuteTime": {
     "end_time": "2024-11-11T11:47:52.737110Z",
     "start_time": "2024-11-11T11:47:39.406023Z"
    }
   },
   "cell_type": "code",
   "source": [
    "from click import progressbar\n",
    "!pip install stable_baselines3==2.3.2\n",
    "!pip install gymnasium[box2d]==0.29.1\n",
    "!pip install swig\n",
    "\n",
    "!pip install torch torchvision torchaudio --index-url https://download.pytorch.org/whl/cu124\n",
    "!pip install numpy==1.26.4\n",
    "!pip install scipy==1.13.1\n",
    "!pip install matplotlib\n",
    "!pip install ipython=7.34.0\n",
    "!pip install opencv-python\n",
    "!pip install stable-baselines3[extra]==2.3.2\n",
    "\n",
    "!pip install scikit-image\n",
    "\n",
    "!pip install ipywidgets\n"
   ],
   "id": "875e043bc55ad4a9",
   "outputs": [
    {
     "name": "stdout",
     "output_type": "stream",
     "text": [
      "Requirement already satisfied: stable_baselines3==2.3.2 in d:\\programming\\iut\\rl-carracing\\.venv\\lib\\site-packages (2.3.2)\n",
      "Requirement already satisfied: gymnasium<0.30,>=0.28.1 in d:\\programming\\iut\\rl-carracing\\.venv\\lib\\site-packages (from stable_baselines3==2.3.2) (0.29.1)\n",
      "Requirement already satisfied: numpy>=1.20 in d:\\programming\\iut\\rl-carracing\\.venv\\lib\\site-packages (from stable_baselines3==2.3.2) (1.26.4)\n",
      "Requirement already satisfied: torch>=1.13 in d:\\programming\\iut\\rl-carracing\\.venv\\lib\\site-packages (from stable_baselines3==2.3.2) (2.5.1+cu124)\n",
      "Requirement already satisfied: cloudpickle in d:\\programming\\iut\\rl-carracing\\.venv\\lib\\site-packages (from stable_baselines3==2.3.2) (3.1.0)\n",
      "Requirement already satisfied: pandas in d:\\programming\\iut\\rl-carracing\\.venv\\lib\\site-packages (from stable_baselines3==2.3.2) (2.2.3)\n",
      "Requirement already satisfied: matplotlib in d:\\programming\\iut\\rl-carracing\\.venv\\lib\\site-packages (from stable_baselines3==2.3.2) (3.9.2)\n",
      "Requirement already satisfied: typing-extensions>=4.3.0 in d:\\programming\\iut\\rl-carracing\\.venv\\lib\\site-packages (from gymnasium<0.30,>=0.28.1->stable_baselines3==2.3.2) (4.12.2)\n",
      "Requirement already satisfied: farama-notifications>=0.0.1 in d:\\programming\\iut\\rl-carracing\\.venv\\lib\\site-packages (from gymnasium<0.30,>=0.28.1->stable_baselines3==2.3.2) (0.0.4)\n",
      "Requirement already satisfied: filelock in d:\\programming\\iut\\rl-carracing\\.venv\\lib\\site-packages (from torch>=1.13->stable_baselines3==2.3.2) (3.16.1)\n",
      "Requirement already satisfied: networkx in d:\\programming\\iut\\rl-carracing\\.venv\\lib\\site-packages (from torch>=1.13->stable_baselines3==2.3.2) (3.4.2)\n",
      "Requirement already satisfied: jinja2 in d:\\programming\\iut\\rl-carracing\\.venv\\lib\\site-packages (from torch>=1.13->stable_baselines3==2.3.2) (3.1.4)\n",
      "Requirement already satisfied: fsspec in d:\\programming\\iut\\rl-carracing\\.venv\\lib\\site-packages (from torch>=1.13->stable_baselines3==2.3.2) (2024.10.0)\n",
      "Requirement already satisfied: sympy==1.13.1 in d:\\programming\\iut\\rl-carracing\\.venv\\lib\\site-packages (from torch>=1.13->stable_baselines3==2.3.2) (1.13.1)\n",
      "Requirement already satisfied: mpmath<1.4,>=1.1.0 in d:\\programming\\iut\\rl-carracing\\.venv\\lib\\site-packages (from sympy==1.13.1->torch>=1.13->stable_baselines3==2.3.2) (1.3.0)\n",
      "Requirement already satisfied: contourpy>=1.0.1 in d:\\programming\\iut\\rl-carracing\\.venv\\lib\\site-packages (from matplotlib->stable_baselines3==2.3.2) (1.3.0)\n",
      "Requirement already satisfied: cycler>=0.10 in d:\\programming\\iut\\rl-carracing\\.venv\\lib\\site-packages (from matplotlib->stable_baselines3==2.3.2) (0.12.1)\n",
      "Requirement already satisfied: fonttools>=4.22.0 in d:\\programming\\iut\\rl-carracing\\.venv\\lib\\site-packages (from matplotlib->stable_baselines3==2.3.2) (4.54.1)\n",
      "Requirement already satisfied: kiwisolver>=1.3.1 in d:\\programming\\iut\\rl-carracing\\.venv\\lib\\site-packages (from matplotlib->stable_baselines3==2.3.2) (1.4.7)\n",
      "Requirement already satisfied: packaging>=20.0 in d:\\programming\\iut\\rl-carracing\\.venv\\lib\\site-packages (from matplotlib->stable_baselines3==2.3.2) (24.2)\n",
      "Requirement already satisfied: pillow>=8 in d:\\programming\\iut\\rl-carracing\\.venv\\lib\\site-packages (from matplotlib->stable_baselines3==2.3.2) (11.0.0)\n",
      "Requirement already satisfied: pyparsing>=2.3.1 in d:\\programming\\iut\\rl-carracing\\.venv\\lib\\site-packages (from matplotlib->stable_baselines3==2.3.2) (3.2.0)\n",
      "Requirement already satisfied: python-dateutil>=2.7 in d:\\programming\\iut\\rl-carracing\\.venv\\lib\\site-packages (from matplotlib->stable_baselines3==2.3.2) (2.9.0.post0)\n",
      "Requirement already satisfied: pytz>=2020.1 in d:\\programming\\iut\\rl-carracing\\.venv\\lib\\site-packages (from pandas->stable_baselines3==2.3.2) (2024.2)\n",
      "Requirement already satisfied: tzdata>=2022.7 in d:\\programming\\iut\\rl-carracing\\.venv\\lib\\site-packages (from pandas->stable_baselines3==2.3.2) (2024.2)\n",
      "Requirement already satisfied: six>=1.5 in d:\\programming\\iut\\rl-carracing\\.venv\\lib\\site-packages (from python-dateutil>=2.7->matplotlib->stable_baselines3==2.3.2) (1.16.0)\n",
      "Requirement already satisfied: MarkupSafe>=2.0 in d:\\programming\\iut\\rl-carracing\\.venv\\lib\\site-packages (from jinja2->torch>=1.13->stable_baselines3==2.3.2) (3.0.2)\n"
     ]
    },
    {
     "name": "stderr",
     "output_type": "stream",
     "text": [
      "\n",
      "[notice] A new release of pip is available: 23.2.1 -> 24.3.1\n",
      "[notice] To update, run: python.exe -m pip install --upgrade pip\n"
     ]
    },
    {
     "name": "stdout",
     "output_type": "stream",
     "text": [
      "Requirement already satisfied: gymnasium[box2d]==0.29.1 in d:\\programming\\iut\\rl-carracing\\.venv\\lib\\site-packages (0.29.1)\n",
      "Requirement already satisfied: numpy>=1.21.0 in d:\\programming\\iut\\rl-carracing\\.venv\\lib\\site-packages (from gymnasium[box2d]==0.29.1) (1.26.4)\n",
      "Requirement already satisfied: cloudpickle>=1.2.0 in d:\\programming\\iut\\rl-carracing\\.venv\\lib\\site-packages (from gymnasium[box2d]==0.29.1) (3.1.0)\n",
      "Requirement already satisfied: typing-extensions>=4.3.0 in d:\\programming\\iut\\rl-carracing\\.venv\\lib\\site-packages (from gymnasium[box2d]==0.29.1) (4.12.2)\n",
      "Requirement already satisfied: farama-notifications>=0.0.1 in d:\\programming\\iut\\rl-carracing\\.venv\\lib\\site-packages (from gymnasium[box2d]==0.29.1) (0.0.4)\n",
      "Requirement already satisfied: box2d-py==2.3.5 in d:\\programming\\iut\\rl-carracing\\.venv\\lib\\site-packages (from gymnasium[box2d]==0.29.1) (2.3.5)\n",
      "Requirement already satisfied: pygame>=2.1.3 in d:\\programming\\iut\\rl-carracing\\.venv\\lib\\site-packages (from gymnasium[box2d]==0.29.1) (2.6.1)\n",
      "Requirement already satisfied: swig==4.* in d:\\programming\\iut\\rl-carracing\\.venv\\lib\\site-packages (from gymnasium[box2d]==0.29.1) (4.2.1.post0)\n"
     ]
    },
    {
     "name": "stderr",
     "output_type": "stream",
     "text": [
      "\n",
      "[notice] A new release of pip is available: 23.2.1 -> 24.3.1\n",
      "[notice] To update, run: python.exe -m pip install --upgrade pip\n"
     ]
    },
    {
     "name": "stdout",
     "output_type": "stream",
     "text": [
      "Requirement already satisfied: swig in d:\\programming\\iut\\rl-carracing\\.venv\\lib\\site-packages (4.2.1.post0)\n"
     ]
    },
    {
     "name": "stderr",
     "output_type": "stream",
     "text": [
      "\n",
      "[notice] A new release of pip is available: 23.2.1 -> 24.3.1\n",
      "[notice] To update, run: python.exe -m pip install --upgrade pip\n"
     ]
    },
    {
     "name": "stdout",
     "output_type": "stream",
     "text": [
      "Looking in indexes: https://download.pytorch.org/whl/cu124\n",
      "Requirement already satisfied: torch in d:\\programming\\iut\\rl-carracing\\.venv\\lib\\site-packages (2.5.1+cu124)\n",
      "Requirement already satisfied: torchvision in d:\\programming\\iut\\rl-carracing\\.venv\\lib\\site-packages (0.20.1+cu124)\n",
      "Requirement already satisfied: torchaudio in d:\\programming\\iut\\rl-carracing\\.venv\\lib\\site-packages (2.5.1+cu124)\n",
      "Requirement already satisfied: filelock in d:\\programming\\iut\\rl-carracing\\.venv\\lib\\site-packages (from torch) (3.16.1)\n",
      "Requirement already satisfied: typing-extensions>=4.8.0 in d:\\programming\\iut\\rl-carracing\\.venv\\lib\\site-packages (from torch) (4.12.2)\n",
      "Requirement already satisfied: networkx in d:\\programming\\iut\\rl-carracing\\.venv\\lib\\site-packages (from torch) (3.4.2)\n",
      "Requirement already satisfied: jinja2 in d:\\programming\\iut\\rl-carracing\\.venv\\lib\\site-packages (from torch) (3.1.4)\n",
      "Requirement already satisfied: fsspec in d:\\programming\\iut\\rl-carracing\\.venv\\lib\\site-packages (from torch) (2024.10.0)\n",
      "Requirement already satisfied: sympy==1.13.1 in d:\\programming\\iut\\rl-carracing\\.venv\\lib\\site-packages (from torch) (1.13.1)\n",
      "Requirement already satisfied: mpmath<1.4,>=1.1.0 in d:\\programming\\iut\\rl-carracing\\.venv\\lib\\site-packages (from sympy==1.13.1->torch) (1.3.0)\n",
      "Requirement already satisfied: numpy in d:\\programming\\iut\\rl-carracing\\.venv\\lib\\site-packages (from torchvision) (1.26.4)\n",
      "Requirement already satisfied: pillow!=8.3.*,>=5.3.0 in d:\\programming\\iut\\rl-carracing\\.venv\\lib\\site-packages (from torchvision) (11.0.0)\n",
      "Requirement already satisfied: MarkupSafe>=2.0 in d:\\programming\\iut\\rl-carracing\\.venv\\lib\\site-packages (from jinja2->torch) (3.0.2)\n"
     ]
    },
    {
     "name": "stderr",
     "output_type": "stream",
     "text": [
      "\n",
      "[notice] A new release of pip is available: 23.2.1 -> 24.3.1\n",
      "[notice] To update, run: python.exe -m pip install --upgrade pip\n"
     ]
    },
    {
     "name": "stdout",
     "output_type": "stream",
     "text": [
      "Requirement already satisfied: numpy==1.26.4 in d:\\programming\\iut\\rl-carracing\\.venv\\lib\\site-packages (1.26.4)\n"
     ]
    },
    {
     "name": "stderr",
     "output_type": "stream",
     "text": [
      "\n",
      "[notice] A new release of pip is available: 23.2.1 -> 24.3.1\n",
      "[notice] To update, run: python.exe -m pip install --upgrade pip\n"
     ]
    },
    {
     "name": "stdout",
     "output_type": "stream",
     "text": [
      "Requirement already satisfied: scipy==1.13.1 in d:\\programming\\iut\\rl-carracing\\.venv\\lib\\site-packages (1.13.1)\n",
      "Requirement already satisfied: numpy<2.3,>=1.22.4 in d:\\programming\\iut\\rl-carracing\\.venv\\lib\\site-packages (from scipy==1.13.1) (1.26.4)\n"
     ]
    },
    {
     "name": "stderr",
     "output_type": "stream",
     "text": [
      "\n",
      "[notice] A new release of pip is available: 23.2.1 -> 24.3.1\n",
      "[notice] To update, run: python.exe -m pip install --upgrade pip\n"
     ]
    },
    {
     "name": "stdout",
     "output_type": "stream",
     "text": [
      "Requirement already satisfied: matplotlib in d:\\programming\\iut\\rl-carracing\\.venv\\lib\\site-packages (3.9.2)\n",
      "Requirement already satisfied: contourpy>=1.0.1 in d:\\programming\\iut\\rl-carracing\\.venv\\lib\\site-packages (from matplotlib) (1.3.0)\n",
      "Requirement already satisfied: cycler>=0.10 in d:\\programming\\iut\\rl-carracing\\.venv\\lib\\site-packages (from matplotlib) (0.12.1)\n",
      "Requirement already satisfied: fonttools>=4.22.0 in d:\\programming\\iut\\rl-carracing\\.venv\\lib\\site-packages (from matplotlib) (4.54.1)\n",
      "Requirement already satisfied: kiwisolver>=1.3.1 in d:\\programming\\iut\\rl-carracing\\.venv\\lib\\site-packages (from matplotlib) (1.4.7)\n",
      "Requirement already satisfied: numpy>=1.23 in d:\\programming\\iut\\rl-carracing\\.venv\\lib\\site-packages (from matplotlib) (1.26.4)\n",
      "Requirement already satisfied: packaging>=20.0 in d:\\programming\\iut\\rl-carracing\\.venv\\lib\\site-packages (from matplotlib) (24.2)\n",
      "Requirement already satisfied: pillow>=8 in d:\\programming\\iut\\rl-carracing\\.venv\\lib\\site-packages (from matplotlib) (11.0.0)\n",
      "Requirement already satisfied: pyparsing>=2.3.1 in d:\\programming\\iut\\rl-carracing\\.venv\\lib\\site-packages (from matplotlib) (3.2.0)\n",
      "Requirement already satisfied: python-dateutil>=2.7 in d:\\programming\\iut\\rl-carracing\\.venv\\lib\\site-packages (from matplotlib) (2.9.0.post0)\n",
      "Requirement already satisfied: six>=1.5 in d:\\programming\\iut\\rl-carracing\\.venv\\lib\\site-packages (from python-dateutil>=2.7->matplotlib) (1.16.0)\n"
     ]
    },
    {
     "name": "stderr",
     "output_type": "stream",
     "text": [
      "\n",
      "[notice] A new release of pip is available: 23.2.1 -> 24.3.1\n",
      "[notice] To update, run: python.exe -m pip install --upgrade pip\n",
      "ERROR: Invalid requirement: 'ipython=7.34.0'\n",
      "Hint: = is not a valid operator. Did you mean == ?\n",
      "\n",
      "[notice] A new release of pip is available: 23.2.1 -> 24.3.1\n",
      "[notice] To update, run: python.exe -m pip install --upgrade pip\n"
     ]
    },
    {
     "name": "stdout",
     "output_type": "stream",
     "text": [
      "Requirement already satisfied: opencv-python in d:\\programming\\iut\\rl-carracing\\.venv\\lib\\site-packages (4.10.0.84)\n",
      "Requirement already satisfied: numpy>=1.21.2 in d:\\programming\\iut\\rl-carracing\\.venv\\lib\\site-packages (from opencv-python) (1.26.4)\n"
     ]
    },
    {
     "name": "stderr",
     "output_type": "stream",
     "text": [
      "\n",
      "[notice] A new release of pip is available: 23.2.1 -> 24.3.1\n",
      "[notice] To update, run: python.exe -m pip install --upgrade pip\n",
      "\n",
      "[notice] A new release of pip is available: 23.2.1 -> 24.3.1\n",
      "[notice] To update, run: python.exe -m pip install --upgrade pip\n"
     ]
    },
    {
     "name": "stdout",
     "output_type": "stream",
     "text": [
      "Requirement already satisfied: stable-baselines3[extra]==2.3.2 in d:\\programming\\iut\\rl-carracing\\.venv\\lib\\site-packages (2.3.2)\n",
      "Requirement already satisfied: gymnasium<0.30,>=0.28.1 in d:\\programming\\iut\\rl-carracing\\.venv\\lib\\site-packages (from stable-baselines3[extra]==2.3.2) (0.29.1)\n",
      "Requirement already satisfied: numpy>=1.20 in d:\\programming\\iut\\rl-carracing\\.venv\\lib\\site-packages (from stable-baselines3[extra]==2.3.2) (1.26.4)\n",
      "Requirement already satisfied: torch>=1.13 in d:\\programming\\iut\\rl-carracing\\.venv\\lib\\site-packages (from stable-baselines3[extra]==2.3.2) (2.5.1+cu124)\n",
      "Requirement already satisfied: cloudpickle in d:\\programming\\iut\\rl-carracing\\.venv\\lib\\site-packages (from stable-baselines3[extra]==2.3.2) (3.1.0)\n",
      "Requirement already satisfied: pandas in d:\\programming\\iut\\rl-carracing\\.venv\\lib\\site-packages (from stable-baselines3[extra]==2.3.2) (2.2.3)\n",
      "Requirement already satisfied: matplotlib in d:\\programming\\iut\\rl-carracing\\.venv\\lib\\site-packages (from stable-baselines3[extra]==2.3.2) (3.9.2)\n",
      "Requirement already satisfied: opencv-python in d:\\programming\\iut\\rl-carracing\\.venv\\lib\\site-packages (from stable-baselines3[extra]==2.3.2) (4.10.0.84)\n",
      "Requirement already satisfied: pygame in d:\\programming\\iut\\rl-carracing\\.venv\\lib\\site-packages (from stable-baselines3[extra]==2.3.2) (2.6.1)\n",
      "Requirement already satisfied: tensorboard>=2.9.1 in d:\\programming\\iut\\rl-carracing\\.venv\\lib\\site-packages (from stable-baselines3[extra]==2.3.2) (2.18.0)\n",
      "Requirement already satisfied: psutil in d:\\programming\\iut\\rl-carracing\\.venv\\lib\\site-packages (from stable-baselines3[extra]==2.3.2) (6.1.0)\n",
      "Requirement already satisfied: tqdm in d:\\programming\\iut\\rl-carracing\\.venv\\lib\\site-packages (from stable-baselines3[extra]==2.3.2) (4.67.0)\n",
      "Requirement already satisfied: rich in d:\\programming\\iut\\rl-carracing\\.venv\\lib\\site-packages (from stable-baselines3[extra]==2.3.2) (13.9.4)\n",
      "Requirement already satisfied: shimmy[atari]~=1.3.0 in d:\\programming\\iut\\rl-carracing\\.venv\\lib\\site-packages (from stable-baselines3[extra]==2.3.2) (1.3.0)\n",
      "Requirement already satisfied: pillow in d:\\programming\\iut\\rl-carracing\\.venv\\lib\\site-packages (from stable-baselines3[extra]==2.3.2) (11.0.0)\n",
      "Requirement already satisfied: autorom[accept-rom-license]~=0.6.1 in d:\\programming\\iut\\rl-carracing\\.venv\\lib\\site-packages (from stable-baselines3[extra]==2.3.2) (0.6.1)\n",
      "Requirement already satisfied: click in d:\\programming\\iut\\rl-carracing\\.venv\\lib\\site-packages (from autorom[accept-rom-license]~=0.6.1->stable-baselines3[extra]==2.3.2) (8.1.7)\n",
      "Requirement already satisfied: requests in d:\\programming\\iut\\rl-carracing\\.venv\\lib\\site-packages (from autorom[accept-rom-license]~=0.6.1->stable-baselines3[extra]==2.3.2) (2.32.3)\n",
      "Requirement already satisfied: AutoROM.accept-rom-license in d:\\programming\\iut\\rl-carracing\\.venv\\lib\\site-packages (from autorom[accept-rom-license]~=0.6.1->stable-baselines3[extra]==2.3.2) (0.6.1)\n",
      "Requirement already satisfied: typing-extensions>=4.3.0 in d:\\programming\\iut\\rl-carracing\\.venv\\lib\\site-packages (from gymnasium<0.30,>=0.28.1->stable-baselines3[extra]==2.3.2) (4.12.2)\n",
      "Requirement already satisfied: farama-notifications>=0.0.1 in d:\\programming\\iut\\rl-carracing\\.venv\\lib\\site-packages (from gymnasium<0.30,>=0.28.1->stable-baselines3[extra]==2.3.2) (0.0.4)\n",
      "Requirement already satisfied: ale-py~=0.8.1 in d:\\programming\\iut\\rl-carracing\\.venv\\lib\\site-packages (from shimmy[atari]~=1.3.0->stable-baselines3[extra]==2.3.2) (0.8.1)\n",
      "Requirement already satisfied: absl-py>=0.4 in d:\\programming\\iut\\rl-carracing\\.venv\\lib\\site-packages (from tensorboard>=2.9.1->stable-baselines3[extra]==2.3.2) (2.1.0)\n",
      "Requirement already satisfied: grpcio>=1.48.2 in d:\\programming\\iut\\rl-carracing\\.venv\\lib\\site-packages (from tensorboard>=2.9.1->stable-baselines3[extra]==2.3.2) (1.67.1)\n",
      "Requirement already satisfied: markdown>=2.6.8 in d:\\programming\\iut\\rl-carracing\\.venv\\lib\\site-packages (from tensorboard>=2.9.1->stable-baselines3[extra]==2.3.2) (3.7)\n",
      "Requirement already satisfied: packaging in d:\\programming\\iut\\rl-carracing\\.venv\\lib\\site-packages (from tensorboard>=2.9.1->stable-baselines3[extra]==2.3.2) (24.2)\n",
      "Requirement already satisfied: protobuf!=4.24.0,>=3.19.6 in d:\\programming\\iut\\rl-carracing\\.venv\\lib\\site-packages (from tensorboard>=2.9.1->stable-baselines3[extra]==2.3.2) (5.28.3)\n",
      "Requirement already satisfied: setuptools>=41.0.0 in d:\\programming\\iut\\rl-carracing\\.venv\\lib\\site-packages (from tensorboard>=2.9.1->stable-baselines3[extra]==2.3.2) (68.2.0)\n",
      "Requirement already satisfied: six>1.9 in d:\\programming\\iut\\rl-carracing\\.venv\\lib\\site-packages (from tensorboard>=2.9.1->stable-baselines3[extra]==2.3.2) (1.16.0)\n",
      "Requirement already satisfied: tensorboard-data-server<0.8.0,>=0.7.0 in d:\\programming\\iut\\rl-carracing\\.venv\\lib\\site-packages (from tensorboard>=2.9.1->stable-baselines3[extra]==2.3.2) (0.7.2)\n",
      "Requirement already satisfied: werkzeug>=1.0.1 in d:\\programming\\iut\\rl-carracing\\.venv\\lib\\site-packages (from tensorboard>=2.9.1->stable-baselines3[extra]==2.3.2) (3.1.3)\n",
      "Requirement already satisfied: filelock in d:\\programming\\iut\\rl-carracing\\.venv\\lib\\site-packages (from torch>=1.13->stable-baselines3[extra]==2.3.2) (3.16.1)\n",
      "Requirement already satisfied: networkx in d:\\programming\\iut\\rl-carracing\\.venv\\lib\\site-packages (from torch>=1.13->stable-baselines3[extra]==2.3.2) (3.4.2)\n",
      "Requirement already satisfied: jinja2 in d:\\programming\\iut\\rl-carracing\\.venv\\lib\\site-packages (from torch>=1.13->stable-baselines3[extra]==2.3.2) (3.1.4)\n",
      "Requirement already satisfied: fsspec in d:\\programming\\iut\\rl-carracing\\.venv\\lib\\site-packages (from torch>=1.13->stable-baselines3[extra]==2.3.2) (2024.10.0)\n",
      "Requirement already satisfied: sympy==1.13.1 in d:\\programming\\iut\\rl-carracing\\.venv\\lib\\site-packages (from torch>=1.13->stable-baselines3[extra]==2.3.2) (1.13.1)\n",
      "Requirement already satisfied: mpmath<1.4,>=1.1.0 in d:\\programming\\iut\\rl-carracing\\.venv\\lib\\site-packages (from sympy==1.13.1->torch>=1.13->stable-baselines3[extra]==2.3.2) (1.3.0)\n",
      "Requirement already satisfied: contourpy>=1.0.1 in d:\\programming\\iut\\rl-carracing\\.venv\\lib\\site-packages (from matplotlib->stable-baselines3[extra]==2.3.2) (1.3.0)\n",
      "Requirement already satisfied: cycler>=0.10 in d:\\programming\\iut\\rl-carracing\\.venv\\lib\\site-packages (from matplotlib->stable-baselines3[extra]==2.3.2) (0.12.1)\n",
      "Requirement already satisfied: fonttools>=4.22.0 in d:\\programming\\iut\\rl-carracing\\.venv\\lib\\site-packages (from matplotlib->stable-baselines3[extra]==2.3.2) (4.54.1)\n",
      "Requirement already satisfied: kiwisolver>=1.3.1 in d:\\programming\\iut\\rl-carracing\\.venv\\lib\\site-packages (from matplotlib->stable-baselines3[extra]==2.3.2) (1.4.7)\n",
      "Requirement already satisfied: pyparsing>=2.3.1 in d:\\programming\\iut\\rl-carracing\\.venv\\lib\\site-packages (from matplotlib->stable-baselines3[extra]==2.3.2) (3.2.0)\n",
      "Requirement already satisfied: python-dateutil>=2.7 in d:\\programming\\iut\\rl-carracing\\.venv\\lib\\site-packages (from matplotlib->stable-baselines3[extra]==2.3.2) (2.9.0.post0)\n",
      "Requirement already satisfied: pytz>=2020.1 in d:\\programming\\iut\\rl-carracing\\.venv\\lib\\site-packages (from pandas->stable-baselines3[extra]==2.3.2) (2024.2)\n",
      "Requirement already satisfied: tzdata>=2022.7 in d:\\programming\\iut\\rl-carracing\\.venv\\lib\\site-packages (from pandas->stable-baselines3[extra]==2.3.2) (2024.2)\n",
      "Requirement already satisfied: markdown-it-py>=2.2.0 in d:\\programming\\iut\\rl-carracing\\.venv\\lib\\site-packages (from rich->stable-baselines3[extra]==2.3.2) (3.0.0)\n",
      "Requirement already satisfied: pygments<3.0.0,>=2.13.0 in d:\\programming\\iut\\rl-carracing\\.venv\\lib\\site-packages (from rich->stable-baselines3[extra]==2.3.2) (2.18.0)\n",
      "Requirement already satisfied: colorama in d:\\programming\\iut\\rl-carracing\\.venv\\lib\\site-packages (from tqdm->stable-baselines3[extra]==2.3.2) (0.4.6)\n",
      "Requirement already satisfied: importlib-resources in d:\\programming\\iut\\rl-carracing\\.venv\\lib\\site-packages (from ale-py~=0.8.1->shimmy[atari]~=1.3.0->stable-baselines3[extra]==2.3.2) (6.4.5)\n",
      "Requirement already satisfied: mdurl~=0.1 in d:\\programming\\iut\\rl-carracing\\.venv\\lib\\site-packages (from markdown-it-py>=2.2.0->rich->stable-baselines3[extra]==2.3.2) (0.1.2)\n",
      "Requirement already satisfied: MarkupSafe>=2.1.1 in d:\\programming\\iut\\rl-carracing\\.venv\\lib\\site-packages (from werkzeug>=1.0.1->tensorboard>=2.9.1->stable-baselines3[extra]==2.3.2) (3.0.2)\n",
      "Requirement already satisfied: charset-normalizer<4,>=2 in d:\\programming\\iut\\rl-carracing\\.venv\\lib\\site-packages (from requests->autorom[accept-rom-license]~=0.6.1->stable-baselines3[extra]==2.3.2) (3.4.0)\n",
      "Requirement already satisfied: idna<4,>=2.5 in d:\\programming\\iut\\rl-carracing\\.venv\\lib\\site-packages (from requests->autorom[accept-rom-license]~=0.6.1->stable-baselines3[extra]==2.3.2) (3.10)\n",
      "Requirement already satisfied: urllib3<3,>=1.21.1 in d:\\programming\\iut\\rl-carracing\\.venv\\lib\\site-packages (from requests->autorom[accept-rom-license]~=0.6.1->stable-baselines3[extra]==2.3.2) (2.2.3)\n",
      "Requirement already satisfied: certifi>=2017.4.17 in d:\\programming\\iut\\rl-carracing\\.venv\\lib\\site-packages (from requests->autorom[accept-rom-license]~=0.6.1->stable-baselines3[extra]==2.3.2) (2024.8.30)\n",
      "Requirement already satisfied: scikit-image in d:\\programming\\iut\\rl-carracing\\.venv\\lib\\site-packages (0.24.0)\n",
      "Requirement already satisfied: numpy>=1.23 in d:\\programming\\iut\\rl-carracing\\.venv\\lib\\site-packages (from scikit-image) (1.26.4)\n",
      "Requirement already satisfied: scipy>=1.9 in d:\\programming\\iut\\rl-carracing\\.venv\\lib\\site-packages (from scikit-image) (1.13.1)\n",
      "Requirement already satisfied: networkx>=2.8 in d:\\programming\\iut\\rl-carracing\\.venv\\lib\\site-packages (from scikit-image) (3.4.2)\n",
      "Requirement already satisfied: pillow>=9.1 in d:\\programming\\iut\\rl-carracing\\.venv\\lib\\site-packages (from scikit-image) (11.0.0)\n",
      "Requirement already satisfied: imageio>=2.33 in d:\\programming\\iut\\rl-carracing\\.venv\\lib\\site-packages (from scikit-image) (2.36.0)\n",
      "Requirement already satisfied: tifffile>=2022.8.12 in d:\\programming\\iut\\rl-carracing\\.venv\\lib\\site-packages (from scikit-image) (2024.9.20)\n",
      "Requirement already satisfied: packaging>=21 in d:\\programming\\iut\\rl-carracing\\.venv\\lib\\site-packages (from scikit-image) (24.2)\n",
      "Requirement already satisfied: lazy-loader>=0.4 in d:\\programming\\iut\\rl-carracing\\.venv\\lib\\site-packages (from scikit-image) (0.4)\n"
     ]
    },
    {
     "name": "stderr",
     "output_type": "stream",
     "text": [
      "\n",
      "[notice] A new release of pip is available: 23.2.1 -> 24.3.1\n",
      "[notice] To update, run: python.exe -m pip install --upgrade pip\n"
     ]
    },
    {
     "name": "stdout",
     "output_type": "stream",
     "text": [
      "Requirement already satisfied: ipywidgets in d:\\programming\\iut\\rl-carracing\\.venv\\lib\\site-packages (8.1.5)\n",
      "Requirement already satisfied: comm>=0.1.3 in d:\\programming\\iut\\rl-carracing\\.venv\\lib\\site-packages (from ipywidgets) (0.2.2)\n",
      "Requirement already satisfied: ipython>=6.1.0 in d:\\programming\\iut\\rl-carracing\\.venv\\lib\\site-packages (from ipywidgets) (8.29.0)\n",
      "Requirement already satisfied: traitlets>=4.3.1 in d:\\programming\\iut\\rl-carracing\\.venv\\lib\\site-packages (from ipywidgets) (5.14.3)\n",
      "Requirement already satisfied: widgetsnbextension~=4.0.12 in d:\\programming\\iut\\rl-carracing\\.venv\\lib\\site-packages (from ipywidgets) (4.0.13)\n",
      "Requirement already satisfied: jupyterlab-widgets~=3.0.12 in d:\\programming\\iut\\rl-carracing\\.venv\\lib\\site-packages (from ipywidgets) (3.0.13)\n",
      "Requirement already satisfied: decorator in d:\\programming\\iut\\rl-carracing\\.venv\\lib\\site-packages (from ipython>=6.1.0->ipywidgets) (4.4.2)\n",
      "Requirement already satisfied: jedi>=0.16 in d:\\programming\\iut\\rl-carracing\\.venv\\lib\\site-packages (from ipython>=6.1.0->ipywidgets) (0.19.1)\n",
      "Requirement already satisfied: matplotlib-inline in d:\\programming\\iut\\rl-carracing\\.venv\\lib\\site-packages (from ipython>=6.1.0->ipywidgets) (0.1.7)\n",
      "Requirement already satisfied: prompt-toolkit<3.1.0,>=3.0.41 in d:\\programming\\iut\\rl-carracing\\.venv\\lib\\site-packages (from ipython>=6.1.0->ipywidgets) (3.0.48)\n",
      "Requirement already satisfied: pygments>=2.4.0 in d:\\programming\\iut\\rl-carracing\\.venv\\lib\\site-packages (from ipython>=6.1.0->ipywidgets) (2.18.0)\n",
      "Requirement already satisfied: stack-data in d:\\programming\\iut\\rl-carracing\\.venv\\lib\\site-packages (from ipython>=6.1.0->ipywidgets) (0.6.3)\n",
      "Requirement already satisfied: exceptiongroup in d:\\programming\\iut\\rl-carracing\\.venv\\lib\\site-packages (from ipython>=6.1.0->ipywidgets) (1.2.2)\n",
      "Requirement already satisfied: typing-extensions>=4.6 in d:\\programming\\iut\\rl-carracing\\.venv\\lib\\site-packages (from ipython>=6.1.0->ipywidgets) (4.12.2)\n",
      "Requirement already satisfied: colorama in d:\\programming\\iut\\rl-carracing\\.venv\\lib\\site-packages (from ipython>=6.1.0->ipywidgets) (0.4.6)\n",
      "Requirement already satisfied: parso<0.9.0,>=0.8.3 in d:\\programming\\iut\\rl-carracing\\.venv\\lib\\site-packages (from jedi>=0.16->ipython>=6.1.0->ipywidgets) (0.8.4)\n",
      "Requirement already satisfied: wcwidth in d:\\programming\\iut\\rl-carracing\\.venv\\lib\\site-packages (from prompt-toolkit<3.1.0,>=3.0.41->ipython>=6.1.0->ipywidgets) (0.2.13)\n",
      "Requirement already satisfied: executing>=1.2.0 in d:\\programming\\iut\\rl-carracing\\.venv\\lib\\site-packages (from stack-data->ipython>=6.1.0->ipywidgets) (2.1.0)\n",
      "Requirement already satisfied: asttokens>=2.1.0 in d:\\programming\\iut\\rl-carracing\\.venv\\lib\\site-packages (from stack-data->ipython>=6.1.0->ipywidgets) (2.4.1)\n",
      "Requirement already satisfied: pure-eval in d:\\programming\\iut\\rl-carracing\\.venv\\lib\\site-packages (from stack-data->ipython>=6.1.0->ipywidgets) (0.2.3)\n",
      "Requirement already satisfied: six>=1.12.0 in d:\\programming\\iut\\rl-carracing\\.venv\\lib\\site-packages (from asttokens>=2.1.0->stack-data->ipython>=6.1.0->ipywidgets) (1.16.0)\n"
     ]
    },
    {
     "name": "stderr",
     "output_type": "stream",
     "text": [
      "\n",
      "[notice] A new release of pip is available: 23.2.1 -> 24.3.1\n",
      "[notice] To update, run: python.exe -m pip install --upgrade pip\n"
     ]
    }
   ],
   "execution_count": 1
  },
  {
   "cell_type": "code",
   "id": "initial_id",
   "metadata": {
    "collapsed": true,
    "ExecuteTime": {
     "end_time": "2024-11-11T11:47:54.707975Z",
     "start_time": "2024-11-11T11:47:52.747851Z"
    }
   },
   "source": [
    "import gymnasium\n",
    "import stable_baselines3\n",
    "from gymnasium.wrappers import RecordVideo\n",
    "from stable_baselines3 import SAC\n",
    "from stable_baselines3.common.env_util import make_vec_env\n",
    "from stable_baselines3.common.vec_env import VecVideoRecorder\n",
    "from stable_baselines3.common.callbacks import EvalCallback\n",
    "from stable_baselines3.common.evaluation import evaluate_policy\n",
    "\n",
    "from stable_baselines3.common.atari_wrappers import WarpFrame\n",
    "\n",
    "import os\n",
    "import numpy as np\n",
    "import platform\n",
    "import matplotlib\n",
    "import matplotlib.pyplot\n",
    "import torch\n",
    "from importlib.metadata import version\n",
    "from stable_baselines3.common.vec_env import DummyVecEnv, VecTransposeImage, VecFrameStack"
   ],
   "outputs": [],
   "execution_count": 2
  },
  {
   "metadata": {
    "ExecuteTime": {
     "end_time": "2024-11-11T11:47:55.548009Z",
     "start_time": "2024-11-11T11:47:55.480507Z"
    }
   },
   "cell_type": "code",
   "source": [
    "print(f\"Python Version: {platform.python_version()}\")\n",
    "print(f\"Torch Version: {version('torch')}\")\n",
    "print(f\"Is Cuda Available: {torch.cuda.is_available()}\")\n",
    "print(f\"Cuda Version: {torch.version.cuda}\")\n",
    "print(f\"Gymnasium Version: {version('gymnasium')}\")\n",
    "print(f\"Numpy Version: {version('numpy')}\")\n",
    "print(f\"Scipy Version: {version('scipy')}\")\n",
    "print(f\"Swig Version: {version('swig')}\")\n",
    "print(f\"Stable Baselines3 Version: {version('stable_baselines3')}\")\n",
    "print(f\"IPython Version: {version('ipython')}\")"
   ],
   "id": "8ebddc20bbf66f8a",
   "outputs": [
    {
     "name": "stdout",
     "output_type": "stream",
     "text": [
      "Python Version: 3.10.11\n",
      "Torch Version: 2.5.1+cu124\n",
      "Is Cuda Available: True\n",
      "Cuda Version: 12.4\n",
      "Gymnasium Version: 0.29.1\n",
      "Numpy Version: 1.26.4\n",
      "Scipy Version: 1.13.1\n",
      "Swig Version: 4.2.1.post0\n",
      "Stable Baselines3 Version: 2.3.2\n",
      "IPython Version: 8.29.0\n"
     ]
    }
   ],
   "execution_count": 3
  },
  {
   "metadata": {
    "ExecuteTime": {
     "end_time": "2024-11-11T11:47:57.531140Z",
     "start_time": "2024-11-11T11:47:57.462378Z"
    }
   },
   "cell_type": "code",
   "source": [
    "env = gymnasium.make('CarRacing-v2')\n",
    "print(\"Observation Space Size: \", env.observation_space.shape)\n",
    "print(\"Action Space Size: \", env.action_space.shape)\n",
    "env.close()"
   ],
   "id": "cfe6a5f5fe2a69e5",
   "outputs": [
    {
     "name": "stdout",
     "output_type": "stream",
     "text": [
      "Observation Space Size:  (96, 96, 3)\n",
      "Action Space Size:  (3,)\n"
     ]
    }
   ],
   "execution_count": 4
  },
  {
   "metadata": {
    "ExecuteTime": {
     "end_time": "2024-11-11T11:47:58.107698Z",
     "start_time": "2024-11-11T11:47:58.099688Z"
    }
   },
   "cell_type": "code",
   "source": [
    "env_str = \"CarRacing-v2\"\n",
    "log_dir = \"./logs/{}\".format(env_str)\n",
    "gray_scale = True\n",
    "env_kwargs_dict = {\"continuous\": True}\n",
    "\n",
    "# If gray_scale True, convert obs to gray scale 84 x 84 image\n",
    "wrapper_class = WarpFrame if gray_scale else None"
   ],
   "id": "51cc4da7553b05e",
   "outputs": [],
   "execution_count": 5
  },
  {
   "metadata": {
    "ExecuteTime": {
     "end_time": "2024-11-11T11:48:15.429467Z",
     "start_time": "2024-11-11T11:47:58.686610Z"
    }
   },
   "cell_type": "code",
   "source": [
    "from stable_baselines3.common.vec_env import DummyVecEnv\n",
    "\n",
    "\n",
    "# Wrapper class for grayscale conversion\n",
    "class WarpFrame(gymnasium.ObservationWrapper):\n",
    "    def __init__(self, env, gray_scale=True):\n",
    "        super(WarpFrame, self).__init__(env)\n",
    "        self.gray_scale = gray_scale\n",
    "        self.shape = (96, 96, 3)  # Keep 3 channels even for grayscale\n",
    "\n",
    "    def observation(self, obs):\n",
    "        from skimage.color import rgb2gray\n",
    "        from skimage.transform import resize\n",
    "        import numpy as np\n",
    "\n",
    "        # Convert to grayscale if needed\n",
    "        if self.gray_scale:\n",
    "            obs = rgb2gray(obs)  # Convert to grayscale (shape: 96, 96)\n",
    "            obs = resize(obs, self.shape[:2], mode='reflect')  # Resize to (96, 96)\n",
    "            obs = np.repeat(obs[..., np.newaxis], 3,\n",
    "                            axis=-1)  # Repeat the grayscale channel 3 times to form an RGB image\n",
    "        else:\n",
    "            obs = resize(obs, self.shape[:2], mode='reflect')\n",
    "\n",
    "        return obs\n",
    "\n",
    "\n",
    "# Create a function to wrap the environment in DummyVecEnv\n",
    "def make_env():\n",
    "    env = gymnasium.make('CarRacing-v2')\n",
    "    if gray_scale:\n",
    "        env = WarpFrame(env)\n",
    "    return env\n",
    "\n",
    "\n",
    "# Wrap both training and evaluation environments with DummyVecEnv\n",
    "env = DummyVecEnv([make_env])  # Make the environment vectorized\n",
    "env = VecFrameStack(env, n_stack=4)  # Stack frames for better learning\n",
    "env = VecTransposeImage(env)  # Apply image transformation (for CNN)\n",
    "\n",
    "# Create the evaluation environment\n",
    "env_val = DummyVecEnv([make_env])  # Use DummyVecEnv for evaluation as well\n",
    "env_val = VecFrameStack(env_val, n_stack=4)\n",
    "env_val = VecTransposeImage(env_val)\n",
    "# Create Evaluation Callback\n",
    "eval_callback = EvalCallback(env_val,\n",
    "                             best_model_save_path=log_dir,\n",
    "                             log_path=log_dir,\n",
    "                             eval_freq=25_000,\n",
    "                             render=False,\n",
    "                             n_eval_episodes=20)\n",
    "\n",
    "# Initialize SAC\n",
    "model = SAC('CnnPolicy', env, verbose=1, buffer_size=75_000)\n",
    "\n",
    "# Train the model\n",
    "model.learn(total_timesteps=100_000, progress_bar=True, callback=eval_callback)\n",
    "\n",
    "# Save the model\n",
    "model.save(os.path.join(log_dir, \"sac_car_racing\"))\n",
    "\n",
    "# Evaluate the trained model\n",
    "mean_reward, std_reward = evaluate_policy(model, env, n_eval_episodes=20)\n",
    "print(f\"Mean reward: {mean_reward:.2f} +/- {std_reward:.2f}\")\n",
    "\n",
    "env.close()\n",
    "env_val.close()"
   ],
   "id": "941dfd03409d765e",
   "outputs": [
    {
     "name": "stdout",
     "output_type": "stream",
     "text": [
      "Using cuda device\n"
     ]
    },
    {
     "name": "stderr",
     "output_type": "stream",
     "text": [
      "D:\\Programming\\IUT\\rl-carracing\\.venv\\lib\\site-packages\\stable_baselines3\\common\\buffers.py:241: UserWarning: This system does not have apparently enough memory to store the complete replay buffer 16.59GB > 16.18GB\n",
      "  warnings.warn(\n"
     ]
    },
    {
     "data": {
      "text/plain": [
       "Output()"
      ],
      "application/vnd.jupyter.widget-view+json": {
       "version_major": 2,
       "version_minor": 0,
       "model_id": "892173fcc38d421792ba3a994ee186d1"
      }
     },
     "metadata": {},
     "output_type": "display_data"
    },
    {
     "ename": "KeyboardInterrupt",
     "evalue": "",
     "output_type": "error",
     "traceback": [
      "\u001B[1;31m---------------------------------------------------------------------------\u001B[0m",
      "\u001B[1;31mKeyboardInterrupt\u001B[0m                         Traceback (most recent call last)",
      "Cell \u001B[1;32mIn[6], line 57\u001B[0m\n\u001B[0;32m     54\u001B[0m model \u001B[38;5;241m=\u001B[39m SAC(\u001B[38;5;124m'\u001B[39m\u001B[38;5;124mCnnPolicy\u001B[39m\u001B[38;5;124m'\u001B[39m, env, verbose\u001B[38;5;241m=\u001B[39m\u001B[38;5;241m1\u001B[39m, buffer_size\u001B[38;5;241m=\u001B[39m\u001B[38;5;241m75_000\u001B[39m)\n\u001B[0;32m     56\u001B[0m \u001B[38;5;66;03m# Train the model\u001B[39;00m\n\u001B[1;32m---> 57\u001B[0m \u001B[43mmodel\u001B[49m\u001B[38;5;241;43m.\u001B[39;49m\u001B[43mlearn\u001B[49m\u001B[43m(\u001B[49m\u001B[43mtotal_timesteps\u001B[49m\u001B[38;5;241;43m=\u001B[39;49m\u001B[38;5;241;43m100_000\u001B[39;49m\u001B[43m,\u001B[49m\u001B[43m \u001B[49m\u001B[43mprogress_bar\u001B[49m\u001B[38;5;241;43m=\u001B[39;49m\u001B[38;5;28;43;01mTrue\u001B[39;49;00m\u001B[43m,\u001B[49m\u001B[43m \u001B[49m\u001B[43mcallback\u001B[49m\u001B[38;5;241;43m=\u001B[39;49m\u001B[43meval_callback\u001B[49m\u001B[43m)\u001B[49m\n\u001B[0;32m     59\u001B[0m \u001B[38;5;66;03m# Save the model\u001B[39;00m\n\u001B[0;32m     60\u001B[0m model\u001B[38;5;241m.\u001B[39msave(os\u001B[38;5;241m.\u001B[39mpath\u001B[38;5;241m.\u001B[39mjoin(log_dir, \u001B[38;5;124m\"\u001B[39m\u001B[38;5;124msac_car_racing\u001B[39m\u001B[38;5;124m\"\u001B[39m))\n",
      "File \u001B[1;32mD:\\Programming\\IUT\\rl-carracing\\.venv\\lib\\site-packages\\stable_baselines3\\sac\\sac.py:307\u001B[0m, in \u001B[0;36mSAC.learn\u001B[1;34m(self, total_timesteps, callback, log_interval, tb_log_name, reset_num_timesteps, progress_bar)\u001B[0m\n\u001B[0;32m    298\u001B[0m \u001B[38;5;28;01mdef\u001B[39;00m \u001B[38;5;21mlearn\u001B[39m(\n\u001B[0;32m    299\u001B[0m     \u001B[38;5;28mself\u001B[39m: SelfSAC,\n\u001B[0;32m    300\u001B[0m     total_timesteps: \u001B[38;5;28mint\u001B[39m,\n\u001B[1;32m   (...)\u001B[0m\n\u001B[0;32m    305\u001B[0m     progress_bar: \u001B[38;5;28mbool\u001B[39m \u001B[38;5;241m=\u001B[39m \u001B[38;5;28;01mFalse\u001B[39;00m,\n\u001B[0;32m    306\u001B[0m ) \u001B[38;5;241m-\u001B[39m\u001B[38;5;241m>\u001B[39m SelfSAC:\n\u001B[1;32m--> 307\u001B[0m     \u001B[38;5;28;01mreturn\u001B[39;00m \u001B[38;5;28;43msuper\u001B[39;49m\u001B[43m(\u001B[49m\u001B[43m)\u001B[49m\u001B[38;5;241;43m.\u001B[39;49m\u001B[43mlearn\u001B[49m\u001B[43m(\u001B[49m\n\u001B[0;32m    308\u001B[0m \u001B[43m        \u001B[49m\u001B[43mtotal_timesteps\u001B[49m\u001B[38;5;241;43m=\u001B[39;49m\u001B[43mtotal_timesteps\u001B[49m\u001B[43m,\u001B[49m\n\u001B[0;32m    309\u001B[0m \u001B[43m        \u001B[49m\u001B[43mcallback\u001B[49m\u001B[38;5;241;43m=\u001B[39;49m\u001B[43mcallback\u001B[49m\u001B[43m,\u001B[49m\n\u001B[0;32m    310\u001B[0m \u001B[43m        \u001B[49m\u001B[43mlog_interval\u001B[49m\u001B[38;5;241;43m=\u001B[39;49m\u001B[43mlog_interval\u001B[49m\u001B[43m,\u001B[49m\n\u001B[0;32m    311\u001B[0m \u001B[43m        \u001B[49m\u001B[43mtb_log_name\u001B[49m\u001B[38;5;241;43m=\u001B[39;49m\u001B[43mtb_log_name\u001B[49m\u001B[43m,\u001B[49m\n\u001B[0;32m    312\u001B[0m \u001B[43m        \u001B[49m\u001B[43mreset_num_timesteps\u001B[49m\u001B[38;5;241;43m=\u001B[39;49m\u001B[43mreset_num_timesteps\u001B[49m\u001B[43m,\u001B[49m\n\u001B[0;32m    313\u001B[0m \u001B[43m        \u001B[49m\u001B[43mprogress_bar\u001B[49m\u001B[38;5;241;43m=\u001B[39;49m\u001B[43mprogress_bar\u001B[49m\u001B[43m,\u001B[49m\n\u001B[0;32m    314\u001B[0m \u001B[43m    \u001B[49m\u001B[43m)\u001B[49m\n",
      "File \u001B[1;32mD:\\Programming\\IUT\\rl-carracing\\.venv\\lib\\site-packages\\stable_baselines3\\common\\off_policy_algorithm.py:347\u001B[0m, in \u001B[0;36mOffPolicyAlgorithm.learn\u001B[1;34m(self, total_timesteps, callback, log_interval, tb_log_name, reset_num_timesteps, progress_bar)\u001B[0m\n\u001B[0;32m    345\u001B[0m         \u001B[38;5;66;03m# Special case when the user passes `gradient_steps=0`\u001B[39;00m\n\u001B[0;32m    346\u001B[0m         \u001B[38;5;28;01mif\u001B[39;00m gradient_steps \u001B[38;5;241m>\u001B[39m \u001B[38;5;241m0\u001B[39m:\n\u001B[1;32m--> 347\u001B[0m             \u001B[38;5;28;43mself\u001B[39;49m\u001B[38;5;241;43m.\u001B[39;49m\u001B[43mtrain\u001B[49m\u001B[43m(\u001B[49m\u001B[43mbatch_size\u001B[49m\u001B[38;5;241;43m=\u001B[39;49m\u001B[38;5;28;43mself\u001B[39;49m\u001B[38;5;241;43m.\u001B[39;49m\u001B[43mbatch_size\u001B[49m\u001B[43m,\u001B[49m\u001B[43m \u001B[49m\u001B[43mgradient_steps\u001B[49m\u001B[38;5;241;43m=\u001B[39;49m\u001B[43mgradient_steps\u001B[49m\u001B[43m)\u001B[49m\n\u001B[0;32m    349\u001B[0m callback\u001B[38;5;241m.\u001B[39mon_training_end()\n\u001B[0;32m    351\u001B[0m \u001B[38;5;28;01mreturn\u001B[39;00m \u001B[38;5;28mself\u001B[39m\n",
      "File \u001B[1;32mD:\\Programming\\IUT\\rl-carracing\\.venv\\lib\\site-packages\\stable_baselines3\\sac\\sac.py:247\u001B[0m, in \u001B[0;36mSAC.train\u001B[1;34m(self, gradient_steps, batch_size)\u001B[0m\n\u001B[0;32m    243\u001B[0m     \u001B[38;5;28mself\u001B[39m\u001B[38;5;241m.\u001B[39ment_coef_optimizer\u001B[38;5;241m.\u001B[39mstep()\n\u001B[0;32m    245\u001B[0m \u001B[38;5;28;01mwith\u001B[39;00m th\u001B[38;5;241m.\u001B[39mno_grad():\n\u001B[0;32m    246\u001B[0m     \u001B[38;5;66;03m# Select action according to policy\u001B[39;00m\n\u001B[1;32m--> 247\u001B[0m     next_actions, next_log_prob \u001B[38;5;241m=\u001B[39m \u001B[38;5;28;43mself\u001B[39;49m\u001B[38;5;241;43m.\u001B[39;49m\u001B[43mactor\u001B[49m\u001B[38;5;241;43m.\u001B[39;49m\u001B[43maction_log_prob\u001B[49m\u001B[43m(\u001B[49m\u001B[43mreplay_data\u001B[49m\u001B[38;5;241;43m.\u001B[39;49m\u001B[43mnext_observations\u001B[49m\u001B[43m)\u001B[49m\n\u001B[0;32m    248\u001B[0m     \u001B[38;5;66;03m# Compute the next Q values: min over all critics targets\u001B[39;00m\n\u001B[0;32m    249\u001B[0m     next_q_values \u001B[38;5;241m=\u001B[39m th\u001B[38;5;241m.\u001B[39mcat(\u001B[38;5;28mself\u001B[39m\u001B[38;5;241m.\u001B[39mcritic_target(replay_data\u001B[38;5;241m.\u001B[39mnext_observations, next_actions), dim\u001B[38;5;241m=\u001B[39m\u001B[38;5;241m1\u001B[39m)\n",
      "File \u001B[1;32mD:\\Programming\\IUT\\rl-carracing\\.venv\\lib\\site-packages\\stable_baselines3\\sac\\policies.py:175\u001B[0m, in \u001B[0;36mActor.action_log_prob\u001B[1;34m(self, obs)\u001B[0m\n\u001B[0;32m    173\u001B[0m mean_actions, log_std, kwargs \u001B[38;5;241m=\u001B[39m \u001B[38;5;28mself\u001B[39m\u001B[38;5;241m.\u001B[39mget_action_dist_params(obs)\n\u001B[0;32m    174\u001B[0m \u001B[38;5;66;03m# return action and associated log prob\u001B[39;00m\n\u001B[1;32m--> 175\u001B[0m \u001B[38;5;28;01mreturn\u001B[39;00m \u001B[38;5;28mself\u001B[39m\u001B[38;5;241m.\u001B[39maction_dist\u001B[38;5;241m.\u001B[39mlog_prob_from_params(mean_actions, log_std, \u001B[38;5;241m*\u001B[39m\u001B[38;5;241m*\u001B[39mkwargs)\n",
      "File \u001B[1;32mD:\\Programming\\IUT\\rl-carracing\\.venv\\lib\\site-packages\\stable_baselines3\\common\\distributions.py:259\u001B[0m, in \u001B[0;36mSquashedDiagGaussianDistribution.log_prob_from_params\u001B[1;34m(self, mean_actions, log_std)\u001B[0m\n\u001B[0;32m    257\u001B[0m \u001B[38;5;28;01mdef\u001B[39;00m \u001B[38;5;21mlog_prob_from_params\u001B[39m(\u001B[38;5;28mself\u001B[39m, mean_actions: th\u001B[38;5;241m.\u001B[39mTensor, log_std: th\u001B[38;5;241m.\u001B[39mTensor) \u001B[38;5;241m-\u001B[39m\u001B[38;5;241m>\u001B[39m Tuple[th\u001B[38;5;241m.\u001B[39mTensor, th\u001B[38;5;241m.\u001B[39mTensor]:\n\u001B[0;32m    258\u001B[0m     action \u001B[38;5;241m=\u001B[39m \u001B[38;5;28mself\u001B[39m\u001B[38;5;241m.\u001B[39mactions_from_params(mean_actions, log_std)\n\u001B[1;32m--> 259\u001B[0m     log_prob \u001B[38;5;241m=\u001B[39m \u001B[38;5;28;43mself\u001B[39;49m\u001B[38;5;241;43m.\u001B[39;49m\u001B[43mlog_prob\u001B[49m\u001B[43m(\u001B[49m\u001B[43maction\u001B[49m\u001B[43m,\u001B[49m\u001B[43m \u001B[49m\u001B[38;5;28;43mself\u001B[39;49m\u001B[38;5;241;43m.\u001B[39;49m\u001B[43mgaussian_actions\u001B[49m\u001B[43m)\u001B[49m\n\u001B[0;32m    260\u001B[0m     \u001B[38;5;28;01mreturn\u001B[39;00m action, log_prob\n",
      "File \u001B[1;32mD:\\Programming\\IUT\\rl-carracing\\.venv\\lib\\site-packages\\stable_baselines3\\common\\distributions.py:236\u001B[0m, in \u001B[0;36mSquashedDiagGaussianDistribution.log_prob\u001B[1;34m(self, actions, gaussian_actions)\u001B[0m\n\u001B[0;32m    233\u001B[0m     gaussian_actions \u001B[38;5;241m=\u001B[39m TanhBijector\u001B[38;5;241m.\u001B[39minverse(actions)\n\u001B[0;32m    235\u001B[0m \u001B[38;5;66;03m# Log likelihood for a Gaussian distribution\u001B[39;00m\n\u001B[1;32m--> 236\u001B[0m log_prob \u001B[38;5;241m=\u001B[39m \u001B[38;5;28;43msuper\u001B[39;49m\u001B[43m(\u001B[49m\u001B[43m)\u001B[49m\u001B[38;5;241;43m.\u001B[39;49m\u001B[43mlog_prob\u001B[49m\u001B[43m(\u001B[49m\u001B[43mgaussian_actions\u001B[49m\u001B[43m)\u001B[49m\n\u001B[0;32m    237\u001B[0m \u001B[38;5;66;03m# Squash correction (from original SAC implementation)\u001B[39;00m\n\u001B[0;32m    238\u001B[0m \u001B[38;5;66;03m# this comes from the fact that tanh is bijective and differentiable\u001B[39;00m\n\u001B[0;32m    239\u001B[0m log_prob \u001B[38;5;241m-\u001B[39m\u001B[38;5;241m=\u001B[39m th\u001B[38;5;241m.\u001B[39msum(th\u001B[38;5;241m.\u001B[39mlog(\u001B[38;5;241m1\u001B[39m \u001B[38;5;241m-\u001B[39m actions\u001B[38;5;241m*\u001B[39m\u001B[38;5;241m*\u001B[39m\u001B[38;5;241m2\u001B[39m \u001B[38;5;241m+\u001B[39m \u001B[38;5;28mself\u001B[39m\u001B[38;5;241m.\u001B[39mepsilon), dim\u001B[38;5;241m=\u001B[39m\u001B[38;5;241m1\u001B[39m)\n",
      "File \u001B[1;32mD:\\Programming\\IUT\\rl-carracing\\.venv\\lib\\site-packages\\stable_baselines3\\common\\distributions.py:175\u001B[0m, in \u001B[0;36mDiagGaussianDistribution.log_prob\u001B[1;34m(self, actions)\u001B[0m\n\u001B[0;32m    167\u001B[0m \u001B[38;5;28;01mdef\u001B[39;00m \u001B[38;5;21mlog_prob\u001B[39m(\u001B[38;5;28mself\u001B[39m, actions: th\u001B[38;5;241m.\u001B[39mTensor) \u001B[38;5;241m-\u001B[39m\u001B[38;5;241m>\u001B[39m th\u001B[38;5;241m.\u001B[39mTensor:\n\u001B[0;32m    168\u001B[0m \u001B[38;5;250m    \u001B[39m\u001B[38;5;124;03m\"\"\"\u001B[39;00m\n\u001B[0;32m    169\u001B[0m \u001B[38;5;124;03m    Get the log probabilities of actions according to the distribution.\u001B[39;00m\n\u001B[0;32m    170\u001B[0m \u001B[38;5;124;03m    Note that you must first call the ``proba_distribution()`` method.\u001B[39;00m\n\u001B[1;32m   (...)\u001B[0m\n\u001B[0;32m    173\u001B[0m \u001B[38;5;124;03m    :return:\u001B[39;00m\n\u001B[0;32m    174\u001B[0m \u001B[38;5;124;03m    \"\"\"\u001B[39;00m\n\u001B[1;32m--> 175\u001B[0m     log_prob \u001B[38;5;241m=\u001B[39m \u001B[38;5;28;43mself\u001B[39;49m\u001B[38;5;241;43m.\u001B[39;49m\u001B[43mdistribution\u001B[49m\u001B[38;5;241;43m.\u001B[39;49m\u001B[43mlog_prob\u001B[49m\u001B[43m(\u001B[49m\u001B[43mactions\u001B[49m\u001B[43m)\u001B[49m\n\u001B[0;32m    176\u001B[0m     \u001B[38;5;28;01mreturn\u001B[39;00m sum_independent_dims(log_prob)\n",
      "File \u001B[1;32mD:\\Programming\\IUT\\rl-carracing\\.venv\\lib\\site-packages\\torch\\distributions\\normal.py:82\u001B[0m, in \u001B[0;36mNormal.log_prob\u001B[1;34m(self, value)\u001B[0m\n\u001B[0;32m     80\u001B[0m \u001B[38;5;28;01mdef\u001B[39;00m \u001B[38;5;21mlog_prob\u001B[39m(\u001B[38;5;28mself\u001B[39m, value):\n\u001B[0;32m     81\u001B[0m     \u001B[38;5;28;01mif\u001B[39;00m \u001B[38;5;28mself\u001B[39m\u001B[38;5;241m.\u001B[39m_validate_args:\n\u001B[1;32m---> 82\u001B[0m         \u001B[38;5;28;43mself\u001B[39;49m\u001B[38;5;241;43m.\u001B[39;49m\u001B[43m_validate_sample\u001B[49m\u001B[43m(\u001B[49m\u001B[43mvalue\u001B[49m\u001B[43m)\u001B[49m\n\u001B[0;32m     83\u001B[0m     \u001B[38;5;66;03m# compute the variance\u001B[39;00m\n\u001B[0;32m     84\u001B[0m     var \u001B[38;5;241m=\u001B[39m \u001B[38;5;28mself\u001B[39m\u001B[38;5;241m.\u001B[39mscale\u001B[38;5;241m*\u001B[39m\u001B[38;5;241m*\u001B[39m\u001B[38;5;241m2\u001B[39m\n",
      "File \u001B[1;32mD:\\Programming\\IUT\\rl-carracing\\.venv\\lib\\site-packages\\torch\\distributions\\distribution.py:315\u001B[0m, in \u001B[0;36mDistribution._validate_sample\u001B[1;34m(self, value)\u001B[0m\n\u001B[0;32m    313\u001B[0m \u001B[38;5;28;01massert\u001B[39;00m support \u001B[38;5;129;01mis\u001B[39;00m \u001B[38;5;129;01mnot\u001B[39;00m \u001B[38;5;28;01mNone\u001B[39;00m\n\u001B[0;32m    314\u001B[0m valid \u001B[38;5;241m=\u001B[39m support\u001B[38;5;241m.\u001B[39mcheck(value)\n\u001B[1;32m--> 315\u001B[0m \u001B[38;5;28;01mif\u001B[39;00m \u001B[38;5;129;01mnot\u001B[39;00m valid\u001B[38;5;241m.\u001B[39mall():\n\u001B[0;32m    316\u001B[0m     \u001B[38;5;28;01mraise\u001B[39;00m \u001B[38;5;167;01mValueError\u001B[39;00m(\n\u001B[0;32m    317\u001B[0m         \u001B[38;5;124m\"\u001B[39m\u001B[38;5;124mExpected value argument \u001B[39m\u001B[38;5;124m\"\u001B[39m\n\u001B[0;32m    318\u001B[0m         \u001B[38;5;124mf\u001B[39m\u001B[38;5;124m\"\u001B[39m\u001B[38;5;124m(\u001B[39m\u001B[38;5;132;01m{\u001B[39;00m\u001B[38;5;28mtype\u001B[39m(value)\u001B[38;5;241m.\u001B[39m\u001B[38;5;18m__name__\u001B[39m\u001B[38;5;132;01m}\u001B[39;00m\u001B[38;5;124m of shape \u001B[39m\u001B[38;5;132;01m{\u001B[39;00m\u001B[38;5;28mtuple\u001B[39m(value\u001B[38;5;241m.\u001B[39mshape)\u001B[38;5;132;01m}\u001B[39;00m\u001B[38;5;124m) \u001B[39m\u001B[38;5;124m\"\u001B[39m\n\u001B[1;32m   (...)\u001B[0m\n\u001B[0;32m    321\u001B[0m         \u001B[38;5;124mf\u001B[39m\u001B[38;5;124m\"\u001B[39m\u001B[38;5;124mbut found invalid values:\u001B[39m\u001B[38;5;130;01m\\n\u001B[39;00m\u001B[38;5;132;01m{\u001B[39;00mvalue\u001B[38;5;132;01m}\u001B[39;00m\u001B[38;5;124m\"\u001B[39m\n\u001B[0;32m    322\u001B[0m     )\n",
      "\u001B[1;31mKeyboardInterrupt\u001B[0m: "
     ]
    }
   ],
   "execution_count": 6
  },
  {
   "metadata": {
    "ExecuteTime": {
     "end_time": "2024-11-11T09:54:13.106022Z",
     "start_time": "2024-11-11T09:50:14.820119Z"
    }
   },
   "cell_type": "code",
   "source": [
    "# Create Evaluation CarRacing environment\n",
    "env = make_vec_env(env_str, n_envs=1, seed=0, wrapper_class=WarpFrame)\n",
    "env = VecFrameStack(env, n_stack=4)\n",
    "env = VecTransposeImage(env)\n",
    "\n",
    "# Load the best model\n",
    "best_model_path = os.path.join(log_dir, \"best_model.zip\")\n",
    "best_model = SAC.load(best_model_path, env=env)\n",
    "\n",
    "mean_reward, std_reward = evaluate_policy(best_model, env, n_eval_episodes=20)\n",
    "print(f\"Best Model - Mean reward: {mean_reward:.2f} +/- {std_reward:.2f}\")\n",
    "\n",
    "# Record video of the best model playing CarRacing\n",
    "env = VecVideoRecorder(env, \"./videos/\",\n",
    "                       video_length=10000,\n",
    "                       record_video_trigger=lambda x: x == 0,\n",
    "                       name_prefix=\"best_model_car_racing_sac\")\n",
    "\n",
    "obs = env.reset()\n",
    "for _ in range(10000):\n",
    "    action, _states = best_model.predict(obs)\n",
    "    obs, rewards, dones, info = env.step(action)\n",
    "    env.render()\n",
    "    if dones:\n",
    "        break\n",
    "\n",
    "env.close()"
   ],
   "id": "abae6ab46ca88853",
   "outputs": [
    {
     "name": "stdout",
     "output_type": "stream",
     "text": [
      "Best Model - Mean reward: -21.16 +/- 14.32\n",
      "Moviepy - Building video D:\\Programming\\IUT\\rl-carracing\\videos\\best_model_car_racing_sac-step-0-to-step-10000.mp4.\n",
      "Moviepy - Writing video D:\\Programming\\IUT\\rl-carracing\\videos\\best_model_car_racing_sac-step-0-to-step-10000.mp4\n",
      "\n"
     ]
    },
    {
     "name": "stderr",
     "output_type": "stream",
     "text": [
      "                                                                 "
     ]
    },
    {
     "name": "stdout",
     "output_type": "stream",
     "text": [
      "Moviepy - Done !\n",
      "Moviepy - video ready D:\\Programming\\IUT\\rl-carracing\\videos\\best_model_car_racing_sac-step-0-to-step-10000.mp4\n"
     ]
    },
    {
     "name": "stderr",
     "output_type": "stream",
     "text": [
      "\r"
     ]
    }
   ],
   "execution_count": 6
  },
  {
   "metadata": {
    "ExecuteTime": {
     "end_time": "2024-11-11T09:54:13.252533Z",
     "start_time": "2024-11-11T09:54:13.135532Z"
    }
   },
   "cell_type": "code",
   "source": [
    "# Load the evaluations.npz file\n",
    "data = np.load(os.path.join(log_dir, \"evaluations.npz\"))\n",
    "\n",
    "# Extract the relevant data\n",
    "timesteps = data['timesteps']\n",
    "results = data['results']\n",
    "\n",
    "# Calculate the mean and standard deviation of the results\n",
    "mean_results = np.mean(results, axis=1)\n",
    "std_results = np.std(results, axis=1)\n",
    "\n",
    "# Plot the results\n",
    "matplotlib.pyplot.figure()\n",
    "matplotlib.pyplot.plot(timesteps, mean_results)\n",
    "matplotlib.pyplot.fill_between(timesteps,\n",
    "                               mean_results - std_results,\n",
    "                               mean_results + std_results,\n",
    "                               alpha=0.3)\n",
    "\n",
    "matplotlib.pyplot.xlabel(\"Timesteps\")\n",
    "matplotlib.pyplot.ylabel(\"Mean Reward\")\n",
    "matplotlib.pyplot.title(f\"SAC Performance on {env_str}\")\n",
    "matplotlib.pyplot.show()"
   ],
   "id": "2f6d187bc0b26f88",
   "outputs": [
    {
     "data": {
      "text/plain": [
       "<Figure size 640x480 with 1 Axes>"
      ],
      "image/png": "[encoded data removed]"
     },
     "metadata": {},
     "output_type": "display_data"
    }
   ],
   "execution_count": 7
  }
 ],
 "metadata": {
  "kernelspec": {
   "display_name": "Python 3",
   "language": "python",
   "name": "python3"
  },
  "language_info": {
   "codemirror_mode": {
    "name": "ipython",
    "version": 2
   },
   "file_extension": ".py",
   "mimetype": "text/x-python",
   "name": "python",
   "nbconvert_exporter": "python",
   "pygments_lexer": "ipython2",
   "version": "2.7.6"
  }
 },
 "nbformat": 4,
 "nbformat_minor": 5
}
