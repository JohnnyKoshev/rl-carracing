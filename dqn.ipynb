{
 "cells": [
  {
   "metadata": {
    "ExecuteTime": {
     "end_time": "2024-11-10T18:20:31.272050Z",
     "start_time": "2024-11-10T18:20:13.665169Z"
    }
   },
   "cell_type": "code",
   "source": "!pip install moviepy",
   "id": "e63930b37698f52b",
   "outputs": [
    {
     "name": "stdout",
     "output_type": "stream",
     "text": [
      "Collecting moviepy\n",
      "  Downloading moviepy-1.0.3.tar.gz (388 kB)\n",
      "     ---------------------------------------- 0.0/388.3 kB ? eta -:--:--\n",
      "     --- ----------------------------------- 30.7/388.3 kB 1.3 MB/s eta 0:00:01\n",
      "     --- --------------------------------- 41.0/388.3 kB 393.8 kB/s eta 0:00:01\n",
      "     --------- -------------------------- 102.4/388.3 kB 737.3 kB/s eta 0:00:01\n",
      "     ----------- ------------------------ 122.9/388.3 kB 654.9 kB/s eta 0:00:01\n",
      "     ----------------------- -------------- 235.5/388.3 kB 1.0 MB/s eta 0:00:01\n",
      "     ----------------------- -------------- 235.5/388.3 kB 1.0 MB/s eta 0:00:01\n",
      "     ----------------------- -------------- 235.5/388.3 kB 1.0 MB/s eta 0:00:01\n",
      "     ----------------------------- ------ 317.4/388.3 kB 893.0 kB/s eta 0:00:01\n",
      "     ----------------------------- ------ 317.4/388.3 kB 893.0 kB/s eta 0:00:01\n",
      "     ----------------------------- ------ 317.4/388.3 kB 893.0 kB/s eta 0:00:01\n",
      "     ----------------------------- ------ 317.4/388.3 kB 893.0 kB/s eta 0:00:01\n",
      "     ----------------------------- ------ 317.4/388.3 kB 893.0 kB/s eta 0:00:01\n",
      "     ----------------------------- ------ 317.4/388.3 kB 893.0 kB/s eta 0:00:01\n",
      "     ----------------------------- ------ 317.4/388.3 kB 893.0 kB/s eta 0:00:01\n",
      "     ----------------------------- ------ 317.4/388.3 kB 893.0 kB/s eta 0:00:01\n",
      "     ----------------------------- ------ 317.4/388.3 kB 893.0 kB/s eta 0:00:01\n",
      "     ----------------------------- ------ 317.4/388.3 kB 893.0 kB/s eta 0:00:01\n",
      "     ----------------------------- ------ 317.4/388.3 kB 893.0 kB/s eta 0:00:01\n",
      "     ----------------------------- ------ 317.4/388.3 kB 893.0 kB/s eta 0:00:01\n",
      "     ----------------------------- ------ 317.4/388.3 kB 893.0 kB/s eta 0:00:01\n",
      "     ------------------------------ ----- 327.7/388.3 kB 344.3 kB/s eta 0:00:01\n",
      "     ------------------------------ ----- 327.7/388.3 kB 344.3 kB/s eta 0:00:01\n",
      "     ------------------------------ ----- 327.7/388.3 kB 344.3 kB/s eta 0:00:01\n",
      "     ------------------------------------ 388.3/388.3 kB 350.7 kB/s eta 0:00:00\n",
      "  Preparing metadata (setup.py): started\n",
      "  Preparing metadata (setup.py): finished with status 'done'\n",
      "Collecting decorator<5.0,>=4.0.2 (from moviepy)\n",
      "  Obtaining dependency information for decorator<5.0,>=4.0.2 from https://files.pythonhosted.org/packages/ed/1b/72a1821152d07cf1d8b6fce298aeb06a7eb90f4d6d41acec9861e7cc6df0/decorator-4.4.2-py2.py3-none-any.whl.metadata\n",
      "  Downloading decorator-4.4.2-py2.py3-none-any.whl.metadata (4.2 kB)\n",
      "Requirement already satisfied: tqdm<5.0,>=4.11.2 in d:\\programming\\iut\\rl-carracing\\.venv\\lib\\site-packages (from moviepy) (4.67.0)\n",
      "Requirement already satisfied: requests<3.0,>=2.8.1 in d:\\programming\\iut\\rl-carracing\\.venv\\lib\\site-packages (from moviepy) (2.32.3)\n",
      "Collecting proglog<=1.0.0 (from moviepy)\n",
      "  Obtaining dependency information for proglog<=1.0.0 from https://files.pythonhosted.org/packages/8b/f5/cab5cf6a540c31f5099043de0ae43990fd9cf66f75ecb5e9f254a4e4d4ee/proglog-0.1.10-py3-none-any.whl.metadata\n",
      "  Downloading proglog-0.1.10-py3-none-any.whl.metadata (639 bytes)\n",
      "Requirement already satisfied: numpy>=1.17.3 in d:\\programming\\iut\\rl-carracing\\.venv\\lib\\site-packages (from moviepy) (1.26.4)\n",
      "Collecting imageio<3.0,>=2.5 (from moviepy)\n",
      "  Obtaining dependency information for imageio<3.0,>=2.5 from https://files.pythonhosted.org/packages/4e/e7/26045404a30c8a200e960fb54fbaf4b73d12e58cd28e03b306b084253f4f/imageio-2.36.0-py3-none-any.whl.metadata\n",
      "  Downloading imageio-2.36.0-py3-none-any.whl.metadata (5.2 kB)\n",
      "Collecting imageio_ffmpeg>=0.2.0 (from moviepy)\n",
      "  Obtaining dependency information for imageio_ffmpeg>=0.2.0 from https://files.pythonhosted.org/packages/a9/1c/1b9c72bf839def47626436ea5ebaf643404f7850482c5fafd71a3deeaa94/imageio_ffmpeg-0.5.1-py3-none-win_amd64.whl.metadata\n",
      "  Downloading imageio_ffmpeg-0.5.1-py3-none-win_amd64.whl.metadata (1.6 kB)\n",
      "Requirement already satisfied: pillow>=8.3.2 in d:\\programming\\iut\\rl-carracing\\.venv\\lib\\site-packages (from imageio<3.0,>=2.5->moviepy) (11.0.0)\n",
      "Requirement already satisfied: setuptools in d:\\programming\\iut\\rl-carracing\\.venv\\lib\\site-packages (from imageio_ffmpeg>=0.2.0->moviepy) (68.2.0)\n",
      "Requirement already satisfied: charset-normalizer<4,>=2 in d:\\programming\\iut\\rl-carracing\\.venv\\lib\\site-packages (from requests<3.0,>=2.8.1->moviepy) (3.4.0)\n",
      "Requirement already satisfied: idna<4,>=2.5 in d:\\programming\\iut\\rl-carracing\\.venv\\lib\\site-packages (from requests<3.0,>=2.8.1->moviepy) (3.10)\n",
      "Requirement already satisfied: urllib3<3,>=1.21.1 in d:\\programming\\iut\\rl-carracing\\.venv\\lib\\site-packages (from requests<3.0,>=2.8.1->moviepy) (2.2.3)\n",
      "Requirement already satisfied: certifi>=2017.4.17 in d:\\programming\\iut\\rl-carracing\\.venv\\lib\\site-packages (from requests<3.0,>=2.8.1->moviepy) (2024.8.30)\n",
      "Requirement already satisfied: colorama in d:\\programming\\iut\\rl-carracing\\.venv\\lib\\site-packages (from tqdm<5.0,>=4.11.2->moviepy) (0.4.6)\n",
      "Downloading decorator-4.4.2-py2.py3-none-any.whl (9.2 kB)\n",
      "Downloading imageio-2.36.0-py3-none-any.whl (315 kB)\n",
      "   ---------------------------------------- 0.0/315.4 kB ? eta -:--:--\n",
      "   ----------- ---------------------------- 92.2/315.4 kB 2.6 MB/s eta 0:00:01\n",
      "   ------------------------ --------------- 194.6/315.4 kB 2.4 MB/s eta 0:00:01\n",
      "   ------------------------------------ --- 286.7/315.4 kB 2.5 MB/s eta 0:00:01\n",
      "   ---------------------------------------- 315.4/315.4 kB 2.4 MB/s eta 0:00:00\n",
      "Downloading imageio_ffmpeg-0.5.1-py3-none-win_amd64.whl (22.6 MB)\n",
      "   ---------------------------------------- 0.0/22.6 MB ? eta -:--:--\n",
      "   ---------------------------------------- 0.1/22.6 MB 5.8 MB/s eta 0:00:04\n",
      "   ---------------------------------------- 0.2/22.6 MB 3.7 MB/s eta 0:00:07\n",
      "    --------------------------------------- 0.3/22.6 MB 2.8 MB/s eta 0:00:08\n",
      "    --------------------------------------- 0.4/22.6 MB 2.5 MB/s eta 0:00:09\n",
      "    --------------------------------------- 0.5/22.6 MB 2.5 MB/s eta 0:00:09\n",
      "   - -------------------------------------- 0.6/22.6 MB 2.4 MB/s eta 0:00:10\n",
      "   - -------------------------------------- 0.7/22.6 MB 2.5 MB/s eta 0:00:09\n",
      "   - -------------------------------------- 0.9/22.6 MB 2.5 MB/s eta 0:00:09\n",
      "   - -------------------------------------- 1.0/22.6 MB 2.4 MB/s eta 0:00:09\n",
      "   - -------------------------------------- 1.1/22.6 MB 2.4 MB/s eta 0:00:09\n",
      "   -- ------------------------------------- 1.2/22.6 MB 2.5 MB/s eta 0:00:09\n",
      "   -- ------------------------------------- 1.4/22.6 MB 2.5 MB/s eta 0:00:09\n",
      "   -- ------------------------------------- 1.5/22.6 MB 2.5 MB/s eta 0:00:09\n",
      "   -- ------------------------------------- 1.6/22.6 MB 2.5 MB/s eta 0:00:09\n",
      "   --- ------------------------------------ 1.7/22.6 MB 2.5 MB/s eta 0:00:09\n",
      "   --- ------------------------------------ 1.8/22.6 MB 2.5 MB/s eta 0:00:09\n",
      "   --- ------------------------------------ 2.0/22.6 MB 2.5 MB/s eta 0:00:09\n",
      "   --- ------------------------------------ 2.1/22.6 MB 2.6 MB/s eta 0:00:09\n",
      "   --- ------------------------------------ 2.2/22.6 MB 2.6 MB/s eta 0:00:08\n",
      "   ---- ----------------------------------- 2.3/22.6 MB 2.6 MB/s eta 0:00:08\n",
      "   ---- ----------------------------------- 2.4/22.6 MB 2.6 MB/s eta 0:00:08\n",
      "   ---- ----------------------------------- 2.6/22.6 MB 2.6 MB/s eta 0:00:08\n",
      "   ---- ----------------------------------- 2.7/22.6 MB 2.6 MB/s eta 0:00:08\n",
      "   ----- ---------------------------------- 2.9/22.6 MB 2.6 MB/s eta 0:00:08\n",
      "   ----- ---------------------------------- 3.0/22.6 MB 2.6 MB/s eta 0:00:08\n",
      "   ----- ---------------------------------- 3.1/22.6 MB 2.6 MB/s eta 0:00:08\n",
      "   ----- ---------------------------------- 3.2/22.6 MB 2.6 MB/s eta 0:00:08\n",
      "   ----- ---------------------------------- 3.4/22.6 MB 2.6 MB/s eta 0:00:08\n",
      "   ------ --------------------------------- 3.5/22.6 MB 2.6 MB/s eta 0:00:08\n",
      "   ------ --------------------------------- 3.6/22.6 MB 2.6 MB/s eta 0:00:08\n",
      "   ------ --------------------------------- 3.7/22.6 MB 2.7 MB/s eta 0:00:08\n",
      "   ------ --------------------------------- 3.9/22.6 MB 2.7 MB/s eta 0:00:08\n",
      "   ------- -------------------------------- 4.0/22.6 MB 2.7 MB/s eta 0:00:07\n",
      "   ------- -------------------------------- 4.1/22.6 MB 2.7 MB/s eta 0:00:07\n",
      "   ------- -------------------------------- 4.3/22.6 MB 2.7 MB/s eta 0:00:07\n",
      "   ------- -------------------------------- 4.4/22.6 MB 2.7 MB/s eta 0:00:07\n",
      "   -------- ------------------------------- 4.6/22.6 MB 2.7 MB/s eta 0:00:07\n",
      "   -------- ------------------------------- 4.7/22.6 MB 2.7 MB/s eta 0:00:07\n",
      "   -------- ------------------------------- 4.8/22.6 MB 2.7 MB/s eta 0:00:07\n",
      "   -------- ------------------------------- 5.0/22.6 MB 2.7 MB/s eta 0:00:07\n",
      "   -------- ------------------------------- 5.1/22.6 MB 2.7 MB/s eta 0:00:07\n",
      "   --------- ------------------------------ 5.2/22.6 MB 2.7 MB/s eta 0:00:07\n",
      "   --------- ------------------------------ 5.4/22.6 MB 2.7 MB/s eta 0:00:07\n",
      "   --------- ------------------------------ 5.5/22.6 MB 2.7 MB/s eta 0:00:07\n",
      "   --------- ------------------------------ 5.6/22.6 MB 2.7 MB/s eta 0:00:07\n",
      "   ---------- ----------------------------- 5.8/22.6 MB 2.7 MB/s eta 0:00:07\n",
      "   ---------- ----------------------------- 5.9/22.6 MB 2.7 MB/s eta 0:00:07\n",
      "   ---------- ----------------------------- 5.9/22.6 MB 2.7 MB/s eta 0:00:07\n",
      "   ---------- ----------------------------- 5.9/22.6 MB 2.7 MB/s eta 0:00:07\n",
      "   ---------- ----------------------------- 6.2/22.6 MB 2.7 MB/s eta 0:00:07\n",
      "   ----------- ---------------------------- 6.3/22.6 MB 2.7 MB/s eta 0:00:07\n",
      "   ----------- ---------------------------- 6.3/22.6 MB 2.7 MB/s eta 0:00:07\n",
      "   ----------- ---------------------------- 6.5/22.6 MB 2.7 MB/s eta 0:00:07\n",
      "   ----------- ---------------------------- 6.5/22.6 MB 2.6 MB/s eta 0:00:07\n",
      "   ----------- ---------------------------- 6.6/22.6 MB 2.6 MB/s eta 0:00:07\n",
      "   ----------- ---------------------------- 6.7/22.6 MB 2.6 MB/s eta 0:00:07\n",
      "   ------------ --------------------------- 6.9/22.6 MB 2.6 MB/s eta 0:00:07\n",
      "   ------------ --------------------------- 7.0/22.6 MB 2.6 MB/s eta 0:00:06\n",
      "   ------------ --------------------------- 7.0/22.6 MB 2.6 MB/s eta 0:00:06\n",
      "   ------------ --------------------------- 7.0/22.6 MB 2.6 MB/s eta 0:00:07\n",
      "   ------------ --------------------------- 7.2/22.6 MB 2.6 MB/s eta 0:00:07\n",
      "   ------------ --------------------------- 7.2/22.6 MB 2.6 MB/s eta 0:00:07\n",
      "   ------------- -------------------------- 7.4/22.6 MB 2.6 MB/s eta 0:00:06\n",
      "   ------------- -------------------------- 7.5/22.6 MB 2.5 MB/s eta 0:00:06\n",
      "   ------------- -------------------------- 7.6/22.6 MB 2.6 MB/s eta 0:00:06\n",
      "   ------------- -------------------------- 7.6/22.6 MB 2.5 MB/s eta 0:00:06\n",
      "   ------------- -------------------------- 7.8/22.6 MB 2.5 MB/s eta 0:00:06\n",
      "   ------------- -------------------------- 7.9/22.6 MB 2.5 MB/s eta 0:00:06\n",
      "   -------------- ------------------------- 8.0/22.6 MB 2.5 MB/s eta 0:00:06\n",
      "   -------------- ------------------------- 8.1/22.6 MB 2.5 MB/s eta 0:00:06\n",
      "   -------------- ------------------------- 8.2/22.6 MB 2.5 MB/s eta 0:00:06\n",
      "   -------------- ------------------------- 8.3/22.6 MB 2.5 MB/s eta 0:00:06\n",
      "   -------------- ------------------------- 8.4/22.6 MB 2.5 MB/s eta 0:00:06\n",
      "   --------------- ------------------------ 8.5/22.6 MB 2.5 MB/s eta 0:00:06\n",
      "   --------------- ------------------------ 8.6/22.6 MB 2.5 MB/s eta 0:00:06\n",
      "   --------------- ------------------------ 8.8/22.6 MB 2.5 MB/s eta 0:00:06\n",
      "   --------------- ------------------------ 8.9/22.6 MB 2.5 MB/s eta 0:00:06\n",
      "   --------------- ------------------------ 9.0/22.6 MB 2.5 MB/s eta 0:00:06\n",
      "   ---------------- ----------------------- 9.1/22.6 MB 2.5 MB/s eta 0:00:06\n",
      "   ---------------- ----------------------- 9.2/22.6 MB 2.5 MB/s eta 0:00:06\n",
      "   ---------------- ----------------------- 9.3/22.6 MB 2.5 MB/s eta 0:00:06\n",
      "   ---------------- ----------------------- 9.4/22.6 MB 2.5 MB/s eta 0:00:06\n",
      "   ---------------- ----------------------- 9.5/22.6 MB 2.5 MB/s eta 0:00:06\n",
      "   ----------------- ---------------------- 9.6/22.6 MB 2.5 MB/s eta 0:00:06\n",
      "   ----------------- ---------------------- 9.7/22.6 MB 2.5 MB/s eta 0:00:06\n",
      "   ----------------- ---------------------- 9.9/22.6 MB 2.5 MB/s eta 0:00:06\n",
      "   ----------------- ---------------------- 10.0/22.6 MB 2.5 MB/s eta 0:00:06\n",
      "   ----------------- ---------------------- 10.1/22.6 MB 2.5 MB/s eta 0:00:05\n",
      "   ------------------ --------------------- 10.2/22.6 MB 2.5 MB/s eta 0:00:05\n",
      "   ------------------ --------------------- 10.3/22.6 MB 2.5 MB/s eta 0:00:05\n",
      "   ------------------ --------------------- 10.4/22.6 MB 2.5 MB/s eta 0:00:05\n",
      "   ------------------ --------------------- 10.5/22.6 MB 2.5 MB/s eta 0:00:05\n",
      "   ------------------ --------------------- 10.7/22.6 MB 2.5 MB/s eta 0:00:05\n",
      "   ------------------- -------------------- 10.8/22.6 MB 2.5 MB/s eta 0:00:05\n",
      "   ------------------- -------------------- 10.9/22.6 MB 2.5 MB/s eta 0:00:05\n",
      "   ------------------- -------------------- 11.0/22.6 MB 2.5 MB/s eta 0:00:05\n",
      "   ------------------- -------------------- 11.1/22.6 MB 2.5 MB/s eta 0:00:05\n",
      "   ------------------- -------------------- 11.2/22.6 MB 2.5 MB/s eta 0:00:05\n",
      "   -------------------- ------------------- 11.3/22.6 MB 2.5 MB/s eta 0:00:05\n",
      "   -------------------- ------------------- 11.4/22.6 MB 2.5 MB/s eta 0:00:05\n",
      "   -------------------- ------------------- 11.6/22.6 MB 2.5 MB/s eta 0:00:05\n",
      "   -------------------- ------------------- 11.7/22.6 MB 2.5 MB/s eta 0:00:05\n",
      "   -------------------- ------------------- 11.8/22.6 MB 2.5 MB/s eta 0:00:05\n",
      "   --------------------- ------------------ 11.9/22.6 MB 2.5 MB/s eta 0:00:05\n",
      "   --------------------- ------------------ 12.0/22.6 MB 2.5 MB/s eta 0:00:05\n",
      "   --------------------- ------------------ 12.1/22.6 MB 2.5 MB/s eta 0:00:05\n",
      "   --------------------- ------------------ 12.2/22.6 MB 2.5 MB/s eta 0:00:05\n",
      "   --------------------- ------------------ 12.3/22.6 MB 2.5 MB/s eta 0:00:05\n",
      "   ---------------------- ----------------- 12.5/22.6 MB 2.5 MB/s eta 0:00:05\n",
      "   ---------------------- ----------------- 12.6/22.6 MB 2.5 MB/s eta 0:00:05\n",
      "   ---------------------- ----------------- 12.7/22.6 MB 2.5 MB/s eta 0:00:04\n",
      "   ---------------------- ----------------- 12.8/22.6 MB 2.5 MB/s eta 0:00:04\n",
      "   ---------------------- ----------------- 12.9/22.6 MB 2.5 MB/s eta 0:00:04\n",
      "   ----------------------- ---------------- 13.0/22.6 MB 2.5 MB/s eta 0:00:04\n",
      "   ----------------------- ---------------- 13.1/22.6 MB 2.5 MB/s eta 0:00:04\n",
      "   ----------------------- ---------------- 13.3/22.6 MB 2.5 MB/s eta 0:00:04\n",
      "   ----------------------- ---------------- 13.4/22.6 MB 2.5 MB/s eta 0:00:04\n",
      "   ----------------------- ---------------- 13.5/22.6 MB 2.5 MB/s eta 0:00:04\n",
      "   ------------------------ --------------- 13.6/22.6 MB 2.5 MB/s eta 0:00:04\n",
      "   ------------------------ --------------- 13.8/22.6 MB 2.5 MB/s eta 0:00:04\n",
      "   ------------------------ --------------- 13.9/22.6 MB 2.5 MB/s eta 0:00:04\n",
      "   ------------------------ --------------- 14.0/22.6 MB 2.5 MB/s eta 0:00:04\n",
      "   ------------------------ --------------- 14.1/22.6 MB 2.5 MB/s eta 0:00:04\n",
      "   ------------------------- -------------- 14.2/22.6 MB 2.5 MB/s eta 0:00:04\n",
      "   ------------------------- -------------- 14.3/22.6 MB 2.5 MB/s eta 0:00:04\n",
      "   ------------------------- -------------- 14.4/22.6 MB 2.5 MB/s eta 0:00:04\n",
      "   ------------------------- -------------- 14.6/22.6 MB 2.5 MB/s eta 0:00:04\n",
      "   ------------------------- -------------- 14.7/22.6 MB 2.4 MB/s eta 0:00:04\n",
      "   -------------------------- ------------- 14.8/22.6 MB 2.4 MB/s eta 0:00:04\n",
      "   -------------------------- ------------- 14.9/22.6 MB 2.4 MB/s eta 0:00:04\n",
      "   -------------------------- ------------- 15.1/22.6 MB 2.4 MB/s eta 0:00:04\n",
      "   -------------------------- ------------- 15.2/22.6 MB 2.4 MB/s eta 0:00:04\n",
      "   -------------------------- ------------- 15.3/22.6 MB 2.4 MB/s eta 0:00:04\n",
      "   --------------------------- ------------ 15.4/22.6 MB 2.4 MB/s eta 0:00:03\n",
      "   --------------------------- ------------ 15.5/22.6 MB 2.4 MB/s eta 0:00:03\n",
      "   --------------------------- ------------ 15.6/22.6 MB 2.4 MB/s eta 0:00:03\n",
      "   --------------------------- ------------ 15.7/22.6 MB 2.4 MB/s eta 0:00:03\n",
      "   --------------------------- ------------ 15.8/22.6 MB 2.4 MB/s eta 0:00:03\n",
      "   ---------------------------- ----------- 15.9/22.6 MB 2.4 MB/s eta 0:00:03\n",
      "   ---------------------------- ----------- 16.1/22.6 MB 2.4 MB/s eta 0:00:03\n",
      "   ---------------------------- ----------- 16.2/22.6 MB 2.4 MB/s eta 0:00:03\n",
      "   ---------------------------- ----------- 16.3/22.6 MB 2.4 MB/s eta 0:00:03\n",
      "   ---------------------------- ----------- 16.4/22.6 MB 2.4 MB/s eta 0:00:03\n",
      "   ----------------------------- ---------- 16.5/22.6 MB 2.4 MB/s eta 0:00:03\n",
      "   ----------------------------- ---------- 16.6/22.6 MB 2.4 MB/s eta 0:00:03\n",
      "   ----------------------------- ---------- 16.7/22.6 MB 2.4 MB/s eta 0:00:03\n",
      "   ----------------------------- ---------- 16.8/22.6 MB 2.4 MB/s eta 0:00:03\n",
      "   ----------------------------- ---------- 16.9/22.6 MB 2.4 MB/s eta 0:00:03\n",
      "   ------------------------------ --------- 17.0/22.6 MB 2.4 MB/s eta 0:00:03\n",
      "   ------------------------------ --------- 17.1/22.6 MB 2.4 MB/s eta 0:00:03\n",
      "   ------------------------------ --------- 17.2/22.6 MB 2.5 MB/s eta 0:00:03\n",
      "   ------------------------------ --------- 17.3/22.6 MB 2.5 MB/s eta 0:00:03\n",
      "   ------------------------------ --------- 17.5/22.6 MB 2.5 MB/s eta 0:00:03\n",
      "   ------------------------------- -------- 17.6/22.6 MB 2.5 MB/s eta 0:00:03\n",
      "   ------------------------------- -------- 17.7/22.6 MB 2.5 MB/s eta 0:00:02\n",
      "   ------------------------------- -------- 17.8/22.6 MB 2.5 MB/s eta 0:00:02\n",
      "   ------------------------------- -------- 17.9/22.6 MB 2.5 MB/s eta 0:00:02\n",
      "   ------------------------------- -------- 18.1/22.6 MB 2.5 MB/s eta 0:00:02\n",
      "   -------------------------------- ------- 18.2/22.6 MB 2.5 MB/s eta 0:00:02\n",
      "   -------------------------------- ------- 18.3/22.6 MB 2.5 MB/s eta 0:00:02\n",
      "   -------------------------------- ------- 18.4/22.6 MB 2.5 MB/s eta 0:00:02\n",
      "   -------------------------------- ------- 18.5/22.6 MB 2.5 MB/s eta 0:00:02\n",
      "   --------------------------------- ------ 18.7/22.6 MB 2.5 MB/s eta 0:00:02\n",
      "   --------------------------------- ------ 18.8/22.6 MB 2.5 MB/s eta 0:00:02\n",
      "   --------------------------------- ------ 18.9/22.6 MB 2.5 MB/s eta 0:00:02\n",
      "   --------------------------------- ------ 19.0/22.6 MB 2.5 MB/s eta 0:00:02\n",
      "   --------------------------------- ------ 19.2/22.6 MB 2.5 MB/s eta 0:00:02\n",
      "   ---------------------------------- ----- 19.3/22.6 MB 2.5 MB/s eta 0:00:02\n",
      "   ---------------------------------- ----- 19.4/22.6 MB 2.5 MB/s eta 0:00:02\n",
      "   ---------------------------------- ----- 19.5/22.6 MB 2.5 MB/s eta 0:00:02\n",
      "   ---------------------------------- ----- 19.6/22.6 MB 2.5 MB/s eta 0:00:02\n",
      "   ---------------------------------- ----- 19.8/22.6 MB 2.5 MB/s eta 0:00:02\n",
      "   ----------------------------------- ---- 19.9/22.6 MB 2.5 MB/s eta 0:00:02\n",
      "   ----------------------------------- ---- 20.0/22.6 MB 2.5 MB/s eta 0:00:02\n",
      "   ----------------------------------- ---- 20.1/22.6 MB 2.5 MB/s eta 0:00:01\n",
      "   ----------------------------------- ---- 20.2/22.6 MB 2.5 MB/s eta 0:00:01\n",
      "   ----------------------------------- ---- 20.4/22.6 MB 2.5 MB/s eta 0:00:01\n",
      "   ------------------------------------ --- 20.5/22.6 MB 2.5 MB/s eta 0:00:01\n",
      "   ------------------------------------ --- 20.6/22.6 MB 2.5 MB/s eta 0:00:01\n",
      "   ------------------------------------ --- 20.7/22.6 MB 2.5 MB/s eta 0:00:01\n",
      "   ------------------------------------ --- 20.8/22.6 MB 2.5 MB/s eta 0:00:01\n",
      "   ------------------------------------- -- 20.9/22.6 MB 2.5 MB/s eta 0:00:01\n",
      "   ------------------------------------- -- 21.1/22.6 MB 2.5 MB/s eta 0:00:01\n",
      "   ------------------------------------- -- 21.2/22.6 MB 2.5 MB/s eta 0:00:01\n",
      "   ------------------------------------- -- 21.3/22.6 MB 2.5 MB/s eta 0:00:01\n",
      "   ------------------------------------- -- 21.4/22.6 MB 2.5 MB/s eta 0:00:01\n",
      "   -------------------------------------- - 21.6/22.6 MB 2.5 MB/s eta 0:00:01\n",
      "   -------------------------------------- - 21.7/22.6 MB 2.5 MB/s eta 0:00:01\n",
      "   -------------------------------------- - 21.8/22.6 MB 2.5 MB/s eta 0:00:01\n",
      "   -------------------------------------- - 21.9/22.6 MB 2.5 MB/s eta 0:00:01\n",
      "   ---------------------------------------  22.1/22.6 MB 2.6 MB/s eta 0:00:01\n",
      "   ---------------------------------------  22.2/22.6 MB 2.6 MB/s eta 0:00:01\n",
      "   ---------------------------------------  22.3/22.6 MB 2.6 MB/s eta 0:00:01\n",
      "   ---------------------------------------  22.4/22.6 MB 2.6 MB/s eta 0:00:01\n",
      "   ---------------------------------------  22.6/22.6 MB 2.6 MB/s eta 0:00:01\n",
      "   ---------------------------------------  22.6/22.6 MB 2.6 MB/s eta 0:00:01\n",
      "   ---------------------------------------- 22.6/22.6 MB 2.5 MB/s eta 0:00:00\n",
      "Downloading proglog-0.1.10-py3-none-any.whl (6.1 kB)\n",
      "Building wheels for collected packages: moviepy\n",
      "  Building wheel for moviepy (setup.py): started\n",
      "  Building wheel for moviepy (setup.py): finished with status 'done'\n",
      "  Created wheel for moviepy: filename=moviepy-1.0.3-py3-none-any.whl size=110765 sha256=dd3f7eefc21154d051c6d71b706115053aa71a89945d13973c46e7de6a59ec20\n",
      "  Stored in directory: c:\\users\\asus\\appdata\\local\\pip\\cache\\wheels\\96\\32\\2d\\e10123bd88fbfc02fed53cc18c80a171d3c87479ed845fa7c1\n",
      "Successfully built moviepy\n",
      "Installing collected packages: imageio_ffmpeg, imageio, decorator, proglog, moviepy\n",
      "  Attempting uninstall: decorator\n",
      "    Found existing installation: decorator 5.1.1\n",
      "    Uninstalling decorator-5.1.1:\n",
      "      Successfully uninstalled decorator-5.1.1\n",
      "Successfully installed decorator-4.4.2 imageio-2.36.0 imageio_ffmpeg-0.5.1 moviepy-1.0.3 proglog-0.1.10\n"
     ]
    },
    {
     "name": "stderr",
     "output_type": "stream",
     "text": [
      "\n",
      "[notice] A new release of pip is available: 23.2.1 -> 24.3.1\n",
      "[notice] To update, run: python.exe -m pip install --upgrade pip\n"
     ]
    }
   ],
   "execution_count": 1
  },
  {
   "cell_type": "code",
   "id": "initial_id",
   "metadata": {
    "collapsed": true,
    "ExecuteTime": {
     "end_time": "2024-11-12T10:07:46.312791Z",
     "start_time": "2024-11-12T10:07:43.592490Z"
    }
   },
   "source": [
    "import gymnasium\n",
    "import stable_baselines3\n",
    "from gymnasium.wrappers import RecordVideo\n",
    "from stable_baselines3 import DQN\n",
    "from stable_baselines3.common.env_util import make_vec_env\n",
    "from stable_baselines3.common.vec_env import VecFrameStack, VecVideoRecorder\n",
    "from stable_baselines3.common.callbacks import BaseCallback, EvalCallback\n",
    "from stable_baselines3.common.evaluation import evaluate_policy\n",
    "from stable_baselines3.common.vec_env import VecTransposeImage\n",
    "from stable_baselines3.common.atari_wrappers import WarpFrame\n",
    "\n",
    "import os\n",
    "import numpy\n",
    "import platform\n",
    "import matplotlib\n",
    "import matplotlib.pyplot\n",
    "import torch\n",
    "from importlib.metadata import version"
   ],
   "outputs": [],
   "execution_count": 1
  },
  {
   "metadata": {
    "ExecuteTime": {
     "end_time": "2024-11-12T10:07:46.839573Z",
     "start_time": "2024-11-12T10:07:46.779335Z"
    }
   },
   "cell_type": "code",
   "source": [
    "print(f\"Python Version: {platform.python_version()}\")\n",
    "print(f\"Torch Version: {version('torch')}\")\n",
    "print(f\"Is Cuda Available: {torch.cuda.is_available()}\")\n",
    "print(f\"Cuda Version: {torch.version.cuda}\")\n",
    "print(f\"Gymnasium Version: {version('gymnasium')}\")\n",
    "print(f\"Numpy Version: {version('numpy')}\")\n",
    "print(f\"Scipy Version: {version('scipy')}\")\n",
    "print(f\"Swig Version: {version('swig')}\")\n",
    "print(f\"Stable Baselines3 Version: {version('stable_baselines3')}\")\n",
    "print(f\"IPython Version: {version('ipython')}\")"
   ],
   "id": "411ad6075f1501e5",
   "outputs": [
    {
     "name": "stdout",
     "output_type": "stream",
     "text": [
      "Python Version: 3.9.0\n",
      "Torch Version: 2.5.1+cu124\n",
      "Is Cuda Available: True\n",
      "Cuda Version: 12.4\n",
      "Gymnasium Version: 0.29.1\n",
      "Numpy Version: 2.0.2\n",
      "Scipy Version: 1.13.1\n",
      "Swig Version: 4.2.1.post0\n",
      "Stable Baselines3 Version: 2.3.2\n",
      "IPython Version: 7.34.0\n"
     ]
    }
   ],
   "execution_count": 2
  },
  {
   "metadata": {
    "ExecuteTime": {
     "end_time": "2024-11-12T10:07:47.428284Z",
     "start_time": "2024-11-12T10:07:47.419773Z"
    }
   },
   "cell_type": "code",
   "source": [
    "gymnasium.register(\n",
    "    id='MultiCarRacing-v2',\n",
    "    entry_point='merger:MultiCarRacing',\n",
    "    max_episode_steps=1000,\n",
    "    reward_threshold=900\n",
    ")"
   ],
   "id": "c9541b472888d5ec",
   "outputs": [],
   "execution_count": 3
  },
  {
   "metadata": {
    "ExecuteTime": {
     "end_time": "2024-11-12T10:07:47.950918Z",
     "start_time": "2024-11-12T10:07:47.856870Z"
    }
   },
   "cell_type": "code",
   "source": [
    "env = gymnasium.make('MultiCarRacing-v2', continuous=False, num_agents=1)\n",
    "print(\"Observation Space Size: \", env.observation_space)\n",
    "print(\"Action Space Size: \", env.action_space)\n",
    "env.close()"
   ],
   "id": "9823de5ac2b29a1",
   "outputs": [
    {
     "name": "stdout",
     "output_type": "stream",
     "text": [
      "Observation Space Size:  Box(0, 255, (96, 96, 3), uint8)\n",
      "Action Space Size:  Discrete(5)\n"
     ]
    }
   ],
   "execution_count": 4
  },
  {
   "metadata": {
    "ExecuteTime": {
     "end_time": "2024-11-12T10:07:48.902252Z",
     "start_time": "2024-11-12T10:07:48.888050Z"
    }
   },
   "cell_type": "code",
   "source": [
    "env_str = \"MultiCarRacing-v2\"\n",
    "log_dir = \"./logs/{}\".format(env_str)\n",
    "env_kwargs_dict={\"continuous\": False, \n",
    "                 \"num_agents\": 1}\n",
    "gray_scale = True\n",
    "\n",
    "# If gray_scale True, convert obs to gray scale 84 x 84 image\n",
    "wrapper_class = WarpFrame if gray_scale else None"
   ],
   "id": "1ef095ca446ea4",
   "outputs": [],
   "execution_count": 5
  },
  {
   "metadata": {
    "ExecuteTime": {
     "end_time": "2024-11-12T10:07:51.173838Z",
     "start_time": "2024-11-12T10:07:49.360665Z"
    }
   },
   "cell_type": "code",
   "source": [
    "# Create Training CarRacing environment\n",
    "env = make_vec_env(env_str,\n",
    "                   n_envs=1,\n",
    "                   env_kwargs=env_kwargs_dict,\n",
    "                   wrapper_class=wrapper_class)\n",
    "env = VecFrameStack(env, n_stack=4)\n",
    "env = VecTransposeImage(env)\n",
    "\n",
    "# Create Evaluation CarRacing environment\n",
    "env_val = make_vec_env(env_str,\n",
    "                       n_envs=1,\n",
    "                       env_kwargs=env_kwargs_dict,\n",
    "                       wrapper_class=wrapper_class)\n",
    "env_val = VecFrameStack(env_val, n_stack=4)\n",
    "env_val = VecTransposeImage(env_val)\n",
    "\n",
    "# Create Evaluation Callback\n",
    "# eval_freq - can cause learning instability if set to low\n",
    "eval_callback = EvalCallback(env_val,\n",
    "                             best_model_save_path=log_dir,\n",
    "                             log_path=log_dir,\n",
    "                             eval_freq=25_000,\n",
    "                             render=False,\n",
    "                             n_eval_episodes=20)\n",
    "\n",
    "# Initialize DQN\n",
    "# buffer_size - encourages exploration of other actions\n",
    "model = DQN('CnnPolicy',\n",
    "            env,\n",
    "            verbose=0,\n",
    "            buffer_size=150_000)\n",
    "\n",
    "# Train the model\n",
    "model.learn(total_timesteps=750_000,\n",
    "            progress_bar=True,\n",
    "            callback=eval_callback)\n",
    "\n",
    "# Save the model\n",
    "model.save(os.path.join(log_dir, \"dqn_car_racing\"))\n",
    "\n",
    "mean_reward, std_reward = evaluate_policy(model, env, n_eval_episodes=20)\n",
    "print(f\"Mean reward: {mean_reward:.2f} +/- {std_reward:.2f}\")\n",
    "\n",
    "env.close()\n",
    "env_val.close()"
   ],
   "id": "40a34d501a104e4a",
   "outputs": [
    {
     "name": "stderr",
     "output_type": "stream",
     "text": [
      "D:\\Programming\\IUT\\rl-carracing\\.venv\\lib\\site-packages\\gymnasium\\utils\\passive_env_checker.py:159: UserWarning: \u001B[33mWARN: The obs returned by the `reset()` method is not within the observation space.\u001B[0m\n",
      "  logger.warn(f\"{pre} is not within the observation space.\")\n"
     ]
    },
    {
     "ename": "error",
     "evalue": "OpenCV(4.10.0) d:\\a\\opencv-python\\opencv-python\\opencv\\modules\\imgproc\\src\\color.simd_helpers.hpp:92: error: (-2:Unspecified error) in function '__cdecl cv::impl::`anonymous-namespace'::CvtHelper<struct cv::impl::`anonymous namespace'::Set<3,4,-1>,struct cv::impl::A0x46dff480::Set<1,-1,-1>,struct cv::impl::A0x46dff480::Set<0,2,5>,4>::CvtHelper(const class cv::_InputArray &,const class cv::_OutputArray &,int)'\n> Invalid number of channels in input image:\n>     'VScn::contains(scn)'\n> where\n>     'scn' is 1\n",
     "output_type": "error",
     "traceback": [
      "\u001B[1;31m---------------------------------------------------------------------------\u001B[0m",
      "\u001B[1;31merror\u001B[0m                                     Traceback (most recent call last)",
      "\u001B[1;32m~\\AppData\\Local\\Temp\\ipykernel_15520\\3795366176.py\u001B[0m in \u001B[0;36m<cell line: 34>\u001B[1;34m()\u001B[0m\n\u001B[0;32m     32\u001B[0m \u001B[1;33m\u001B[0m\u001B[0m\n\u001B[0;32m     33\u001B[0m \u001B[1;31m# Train the model\u001B[0m\u001B[1;33m\u001B[0m\u001B[1;33m\u001B[0m\u001B[1;33m\u001B[0m\u001B[0m\n\u001B[1;32m---> 34\u001B[1;33m model.learn(total_timesteps=750_000,\n\u001B[0m\u001B[0;32m     35\u001B[0m             \u001B[0mprogress_bar\u001B[0m\u001B[1;33m=\u001B[0m\u001B[1;32mTrue\u001B[0m\u001B[1;33m,\u001B[0m\u001B[1;33m\u001B[0m\u001B[1;33m\u001B[0m\u001B[0m\n\u001B[0;32m     36\u001B[0m             callback=eval_callback)\n",
      "\u001B[1;32mD:\\Programming\\IUT\\rl-carracing\\.venv\\lib\\site-packages\\stable_baselines3\\dqn\\dqn.py\u001B[0m in \u001B[0;36mlearn\u001B[1;34m(self, total_timesteps, callback, log_interval, tb_log_name, reset_num_timesteps, progress_bar)\u001B[0m\n\u001B[0;32m    265\u001B[0m         \u001B[0mprogress_bar\u001B[0m\u001B[1;33m:\u001B[0m \u001B[0mbool\u001B[0m \u001B[1;33m=\u001B[0m \u001B[1;32mFalse\u001B[0m\u001B[1;33m,\u001B[0m\u001B[1;33m\u001B[0m\u001B[1;33m\u001B[0m\u001B[0m\n\u001B[0;32m    266\u001B[0m     ) -> SelfDQN:\n\u001B[1;32m--> 267\u001B[1;33m         return super().learn(\n\u001B[0m\u001B[0;32m    268\u001B[0m             \u001B[0mtotal_timesteps\u001B[0m\u001B[1;33m=\u001B[0m\u001B[0mtotal_timesteps\u001B[0m\u001B[1;33m,\u001B[0m\u001B[1;33m\u001B[0m\u001B[1;33m\u001B[0m\u001B[0m\n\u001B[0;32m    269\u001B[0m             \u001B[0mcallback\u001B[0m\u001B[1;33m=\u001B[0m\u001B[0mcallback\u001B[0m\u001B[1;33m,\u001B[0m\u001B[1;33m\u001B[0m\u001B[1;33m\u001B[0m\u001B[0m\n",
      "\u001B[1;32mD:\\Programming\\IUT\\rl-carracing\\.venv\\lib\\site-packages\\stable_baselines3\\common\\off_policy_algorithm.py\u001B[0m in \u001B[0;36mlearn\u001B[1;34m(self, total_timesteps, callback, log_interval, tb_log_name, reset_num_timesteps, progress_bar)\u001B[0m\n\u001B[0;32m    312\u001B[0m         \u001B[0mprogress_bar\u001B[0m\u001B[1;33m:\u001B[0m \u001B[0mbool\u001B[0m \u001B[1;33m=\u001B[0m \u001B[1;32mFalse\u001B[0m\u001B[1;33m,\u001B[0m\u001B[1;33m\u001B[0m\u001B[1;33m\u001B[0m\u001B[0m\n\u001B[0;32m    313\u001B[0m     ) -> SelfOffPolicyAlgorithm:\n\u001B[1;32m--> 314\u001B[1;33m         total_timesteps, callback = self._setup_learn(\n\u001B[0m\u001B[0;32m    315\u001B[0m             \u001B[0mtotal_timesteps\u001B[0m\u001B[1;33m,\u001B[0m\u001B[1;33m\u001B[0m\u001B[1;33m\u001B[0m\u001B[0m\n\u001B[0;32m    316\u001B[0m             \u001B[0mcallback\u001B[0m\u001B[1;33m,\u001B[0m\u001B[1;33m\u001B[0m\u001B[1;33m\u001B[0m\u001B[0m\n",
      "\u001B[1;32mD:\\Programming\\IUT\\rl-carracing\\.venv\\lib\\site-packages\\stable_baselines3\\common\\off_policy_algorithm.py\u001B[0m in \u001B[0;36m_setup_learn\u001B[1;34m(self, total_timesteps, callback, reset_num_timesteps, tb_log_name, progress_bar)\u001B[0m\n\u001B[0;32m    295\u001B[0m             \u001B[0mself\u001B[0m\u001B[1;33m.\u001B[0m\u001B[0maction_noise\u001B[0m \u001B[1;33m=\u001B[0m \u001B[0mVectorizedActionNoise\u001B[0m\u001B[1;33m(\u001B[0m\u001B[0mself\u001B[0m\u001B[1;33m.\u001B[0m\u001B[0maction_noise\u001B[0m\u001B[1;33m,\u001B[0m \u001B[0mself\u001B[0m\u001B[1;33m.\u001B[0m\u001B[0menv\u001B[0m\u001B[1;33m.\u001B[0m\u001B[0mnum_envs\u001B[0m\u001B[1;33m)\u001B[0m\u001B[1;33m\u001B[0m\u001B[1;33m\u001B[0m\u001B[0m\n\u001B[0;32m    296\u001B[0m \u001B[1;33m\u001B[0m\u001B[0m\n\u001B[1;32m--> 297\u001B[1;33m         return super()._setup_learn(\n\u001B[0m\u001B[0;32m    298\u001B[0m             \u001B[0mtotal_timesteps\u001B[0m\u001B[1;33m,\u001B[0m\u001B[1;33m\u001B[0m\u001B[1;33m\u001B[0m\u001B[0m\n\u001B[0;32m    299\u001B[0m             \u001B[0mcallback\u001B[0m\u001B[1;33m,\u001B[0m\u001B[1;33m\u001B[0m\u001B[1;33m\u001B[0m\u001B[0m\n",
      "\u001B[1;32mD:\\Programming\\IUT\\rl-carracing\\.venv\\lib\\site-packages\\stable_baselines3\\common\\base_class.py\u001B[0m in \u001B[0;36m_setup_learn\u001B[1;34m(self, total_timesteps, callback, reset_num_timesteps, tb_log_name, progress_bar)\u001B[0m\n\u001B[0;32m    421\u001B[0m         \u001B[1;32mif\u001B[0m \u001B[0mreset_num_timesteps\u001B[0m \u001B[1;32mor\u001B[0m \u001B[0mself\u001B[0m\u001B[1;33m.\u001B[0m\u001B[0m_last_obs\u001B[0m \u001B[1;32mis\u001B[0m \u001B[1;32mNone\u001B[0m\u001B[1;33m:\u001B[0m\u001B[1;33m\u001B[0m\u001B[1;33m\u001B[0m\u001B[0m\n\u001B[0;32m    422\u001B[0m             \u001B[1;32massert\u001B[0m \u001B[0mself\u001B[0m\u001B[1;33m.\u001B[0m\u001B[0menv\u001B[0m \u001B[1;32mis\u001B[0m \u001B[1;32mnot\u001B[0m \u001B[1;32mNone\u001B[0m\u001B[1;33m\u001B[0m\u001B[1;33m\u001B[0m\u001B[0m\n\u001B[1;32m--> 423\u001B[1;33m             \u001B[0mself\u001B[0m\u001B[1;33m.\u001B[0m\u001B[0m_last_obs\u001B[0m \u001B[1;33m=\u001B[0m \u001B[0mself\u001B[0m\u001B[1;33m.\u001B[0m\u001B[0menv\u001B[0m\u001B[1;33m.\u001B[0m\u001B[0mreset\u001B[0m\u001B[1;33m(\u001B[0m\u001B[1;33m)\u001B[0m  \u001B[1;31m# type: ignore[assignment]\u001B[0m\u001B[1;33m\u001B[0m\u001B[1;33m\u001B[0m\u001B[0m\n\u001B[0m\u001B[0;32m    424\u001B[0m             \u001B[0mself\u001B[0m\u001B[1;33m.\u001B[0m\u001B[0m_last_episode_starts\u001B[0m \u001B[1;33m=\u001B[0m \u001B[0mnp\u001B[0m\u001B[1;33m.\u001B[0m\u001B[0mones\u001B[0m\u001B[1;33m(\u001B[0m\u001B[1;33m(\u001B[0m\u001B[0mself\u001B[0m\u001B[1;33m.\u001B[0m\u001B[0menv\u001B[0m\u001B[1;33m.\u001B[0m\u001B[0mnum_envs\u001B[0m\u001B[1;33m,\u001B[0m\u001B[1;33m)\u001B[0m\u001B[1;33m,\u001B[0m \u001B[0mdtype\u001B[0m\u001B[1;33m=\u001B[0m\u001B[0mbool\u001B[0m\u001B[1;33m)\u001B[0m\u001B[1;33m\u001B[0m\u001B[1;33m\u001B[0m\u001B[0m\n\u001B[0;32m    425\u001B[0m             \u001B[1;31m# Retrieve unnormalized observation for saving into the buffer\u001B[0m\u001B[1;33m\u001B[0m\u001B[1;33m\u001B[0m\u001B[1;33m\u001B[0m\u001B[0m\n",
      "\u001B[1;32mD:\\Programming\\IUT\\rl-carracing\\.venv\\lib\\site-packages\\stable_baselines3\\common\\vec_env\\vec_transpose.py\u001B[0m in \u001B[0;36mreset\u001B[1;34m(self)\u001B[0m\n\u001B[0;32m    111\u001B[0m         \u001B[0mReset\u001B[0m \u001B[0mall\u001B[0m \u001B[0menvironments\u001B[0m\u001B[1;33m\u001B[0m\u001B[1;33m\u001B[0m\u001B[0m\n\u001B[0;32m    112\u001B[0m         \"\"\"\n\u001B[1;32m--> 113\u001B[1;33m         \u001B[0mobservations\u001B[0m \u001B[1;33m=\u001B[0m \u001B[0mself\u001B[0m\u001B[1;33m.\u001B[0m\u001B[0mvenv\u001B[0m\u001B[1;33m.\u001B[0m\u001B[0mreset\u001B[0m\u001B[1;33m(\u001B[0m\u001B[1;33m)\u001B[0m\u001B[1;33m\u001B[0m\u001B[1;33m\u001B[0m\u001B[0m\n\u001B[0m\u001B[0;32m    114\u001B[0m         \u001B[1;32massert\u001B[0m \u001B[0misinstance\u001B[0m\u001B[1;33m(\u001B[0m\u001B[0mobservations\u001B[0m\u001B[1;33m,\u001B[0m \u001B[1;33m(\u001B[0m\u001B[0mnp\u001B[0m\u001B[1;33m.\u001B[0m\u001B[0mndarray\u001B[0m\u001B[1;33m,\u001B[0m \u001B[0mdict\u001B[0m\u001B[1;33m)\u001B[0m\u001B[1;33m)\u001B[0m\u001B[1;33m\u001B[0m\u001B[1;33m\u001B[0m\u001B[0m\n\u001B[0;32m    115\u001B[0m         \u001B[1;32mreturn\u001B[0m \u001B[0mself\u001B[0m\u001B[1;33m.\u001B[0m\u001B[0mtranspose_observations\u001B[0m\u001B[1;33m(\u001B[0m\u001B[0mobservations\u001B[0m\u001B[1;33m)\u001B[0m\u001B[1;33m\u001B[0m\u001B[1;33m\u001B[0m\u001B[0m\n",
      "\u001B[1;32mD:\\Programming\\IUT\\rl-carracing\\.venv\\lib\\site-packages\\stable_baselines3\\common\\vec_env\\vec_frame_stack.py\u001B[0m in \u001B[0;36mreset\u001B[1;34m(self)\u001B[0m\n\u001B[0;32m     44\u001B[0m         \u001B[0mReset\u001B[0m \u001B[0mall\u001B[0m \u001B[0menvironments\u001B[0m\u001B[1;33m\u001B[0m\u001B[1;33m\u001B[0m\u001B[0m\n\u001B[0;32m     45\u001B[0m         \"\"\"\n\u001B[1;32m---> 46\u001B[1;33m         \u001B[0mobservation\u001B[0m \u001B[1;33m=\u001B[0m \u001B[0mself\u001B[0m\u001B[1;33m.\u001B[0m\u001B[0mvenv\u001B[0m\u001B[1;33m.\u001B[0m\u001B[0mreset\u001B[0m\u001B[1;33m(\u001B[0m\u001B[1;33m)\u001B[0m\u001B[1;33m\u001B[0m\u001B[1;33m\u001B[0m\u001B[0m\n\u001B[0m\u001B[0;32m     47\u001B[0m         \u001B[0mobservation\u001B[0m \u001B[1;33m=\u001B[0m \u001B[0mself\u001B[0m\u001B[1;33m.\u001B[0m\u001B[0mstacked_obs\u001B[0m\u001B[1;33m.\u001B[0m\u001B[0mreset\u001B[0m\u001B[1;33m(\u001B[0m\u001B[0mobservation\u001B[0m\u001B[1;33m)\u001B[0m  \u001B[1;31m# type: ignore[arg-type]\u001B[0m\u001B[1;33m\u001B[0m\u001B[1;33m\u001B[0m\u001B[0m\n\u001B[0;32m     48\u001B[0m         \u001B[1;32mreturn\u001B[0m \u001B[0mobservation\u001B[0m\u001B[1;33m\u001B[0m\u001B[1;33m\u001B[0m\u001B[0m\n",
      "\u001B[1;32mD:\\Programming\\IUT\\rl-carracing\\.venv\\lib\\site-packages\\stable_baselines3\\common\\vec_env\\dummy_vec_env.py\u001B[0m in \u001B[0;36mreset\u001B[1;34m(self)\u001B[0m\n\u001B[0;32m     75\u001B[0m         \u001B[1;32mfor\u001B[0m \u001B[0menv_idx\u001B[0m \u001B[1;32min\u001B[0m \u001B[0mrange\u001B[0m\u001B[1;33m(\u001B[0m\u001B[0mself\u001B[0m\u001B[1;33m.\u001B[0m\u001B[0mnum_envs\u001B[0m\u001B[1;33m)\u001B[0m\u001B[1;33m:\u001B[0m\u001B[1;33m\u001B[0m\u001B[1;33m\u001B[0m\u001B[0m\n\u001B[0;32m     76\u001B[0m             \u001B[0mmaybe_options\u001B[0m \u001B[1;33m=\u001B[0m \u001B[1;33m{\u001B[0m\u001B[1;34m\"options\"\u001B[0m\u001B[1;33m:\u001B[0m \u001B[0mself\u001B[0m\u001B[1;33m.\u001B[0m\u001B[0m_options\u001B[0m\u001B[1;33m[\u001B[0m\u001B[0menv_idx\u001B[0m\u001B[1;33m]\u001B[0m\u001B[1;33m}\u001B[0m \u001B[1;32mif\u001B[0m \u001B[0mself\u001B[0m\u001B[1;33m.\u001B[0m\u001B[0m_options\u001B[0m\u001B[1;33m[\u001B[0m\u001B[0menv_idx\u001B[0m\u001B[1;33m]\u001B[0m \u001B[1;32melse\u001B[0m \u001B[1;33m{\u001B[0m\u001B[1;33m}\u001B[0m\u001B[1;33m\u001B[0m\u001B[1;33m\u001B[0m\u001B[0m\n\u001B[1;32m---> 77\u001B[1;33m             \u001B[0mobs\u001B[0m\u001B[1;33m,\u001B[0m \u001B[0mself\u001B[0m\u001B[1;33m.\u001B[0m\u001B[0mreset_infos\u001B[0m\u001B[1;33m[\u001B[0m\u001B[0menv_idx\u001B[0m\u001B[1;33m]\u001B[0m \u001B[1;33m=\u001B[0m \u001B[0mself\u001B[0m\u001B[1;33m.\u001B[0m\u001B[0menvs\u001B[0m\u001B[1;33m[\u001B[0m\u001B[0menv_idx\u001B[0m\u001B[1;33m]\u001B[0m\u001B[1;33m.\u001B[0m\u001B[0mreset\u001B[0m\u001B[1;33m(\u001B[0m\u001B[0mseed\u001B[0m\u001B[1;33m=\u001B[0m\u001B[0mself\u001B[0m\u001B[1;33m.\u001B[0m\u001B[0m_seeds\u001B[0m\u001B[1;33m[\u001B[0m\u001B[0menv_idx\u001B[0m\u001B[1;33m]\u001B[0m\u001B[1;33m,\u001B[0m \u001B[1;33m**\u001B[0m\u001B[0mmaybe_options\u001B[0m\u001B[1;33m)\u001B[0m\u001B[1;33m\u001B[0m\u001B[1;33m\u001B[0m\u001B[0m\n\u001B[0m\u001B[0;32m     78\u001B[0m             \u001B[0mself\u001B[0m\u001B[1;33m.\u001B[0m\u001B[0m_save_obs\u001B[0m\u001B[1;33m(\u001B[0m\u001B[0menv_idx\u001B[0m\u001B[1;33m,\u001B[0m \u001B[0mobs\u001B[0m\u001B[1;33m)\u001B[0m\u001B[1;33m\u001B[0m\u001B[1;33m\u001B[0m\u001B[0m\n\u001B[0;32m     79\u001B[0m         \u001B[1;31m# Seeds and options are only used once\u001B[0m\u001B[1;33m\u001B[0m\u001B[1;33m\u001B[0m\u001B[1;33m\u001B[0m\u001B[0m\n",
      "\u001B[1;32mD:\\Programming\\IUT\\rl-carracing\\.venv\\lib\\site-packages\\gymnasium\\core.py\u001B[0m in \u001B[0;36mreset\u001B[1;34m(self, seed, options)\u001B[0m\n\u001B[0;32m    514\u001B[0m         \u001B[1;34m\"\"\"Modifies the :attr:`env` after calling :meth:`reset`, returning a modified observation using :meth:`self.observation`.\"\"\"\u001B[0m\u001B[1;33m\u001B[0m\u001B[1;33m\u001B[0m\u001B[0m\n\u001B[0;32m    515\u001B[0m         \u001B[0mobs\u001B[0m\u001B[1;33m,\u001B[0m \u001B[0minfo\u001B[0m \u001B[1;33m=\u001B[0m \u001B[0mself\u001B[0m\u001B[1;33m.\u001B[0m\u001B[0menv\u001B[0m\u001B[1;33m.\u001B[0m\u001B[0mreset\u001B[0m\u001B[1;33m(\u001B[0m\u001B[0mseed\u001B[0m\u001B[1;33m=\u001B[0m\u001B[0mseed\u001B[0m\u001B[1;33m,\u001B[0m \u001B[0moptions\u001B[0m\u001B[1;33m=\u001B[0m\u001B[0moptions\u001B[0m\u001B[1;33m)\u001B[0m\u001B[1;33m\u001B[0m\u001B[1;33m\u001B[0m\u001B[0m\n\u001B[1;32m--> 516\u001B[1;33m         \u001B[1;32mreturn\u001B[0m \u001B[0mself\u001B[0m\u001B[1;33m.\u001B[0m\u001B[0mobservation\u001B[0m\u001B[1;33m(\u001B[0m\u001B[0mobs\u001B[0m\u001B[1;33m)\u001B[0m\u001B[1;33m,\u001B[0m \u001B[0minfo\u001B[0m\u001B[1;33m\u001B[0m\u001B[1;33m\u001B[0m\u001B[0m\n\u001B[0m\u001B[0;32m    517\u001B[0m \u001B[1;33m\u001B[0m\u001B[0m\n\u001B[0;32m    518\u001B[0m     def step(\n",
      "\u001B[1;32mD:\\Programming\\IUT\\rl-carracing\\.venv\\lib\\site-packages\\stable_baselines3\\common\\atari_wrappers.py\u001B[0m in \u001B[0;36mobservation\u001B[1;34m(self, frame)\u001B[0m\n\u001B[0;32m    243\u001B[0m         \"\"\"\n\u001B[0;32m    244\u001B[0m         \u001B[1;32massert\u001B[0m \u001B[0mcv2\u001B[0m \u001B[1;32mis\u001B[0m \u001B[1;32mnot\u001B[0m \u001B[1;32mNone\u001B[0m\u001B[1;33m,\u001B[0m \u001B[1;34m\"OpenCV is not installed, you can do `pip install opencv-python`\"\u001B[0m\u001B[1;33m\u001B[0m\u001B[1;33m\u001B[0m\u001B[0m\n\u001B[1;32m--> 245\u001B[1;33m         \u001B[0mframe\u001B[0m \u001B[1;33m=\u001B[0m \u001B[0mcv2\u001B[0m\u001B[1;33m.\u001B[0m\u001B[0mcvtColor\u001B[0m\u001B[1;33m(\u001B[0m\u001B[0mframe\u001B[0m\u001B[1;33m,\u001B[0m \u001B[0mcv2\u001B[0m\u001B[1;33m.\u001B[0m\u001B[0mCOLOR_RGB2GRAY\u001B[0m\u001B[1;33m)\u001B[0m\u001B[1;33m\u001B[0m\u001B[1;33m\u001B[0m\u001B[0m\n\u001B[0m\u001B[0;32m    246\u001B[0m         \u001B[0mframe\u001B[0m \u001B[1;33m=\u001B[0m \u001B[0mcv2\u001B[0m\u001B[1;33m.\u001B[0m\u001B[0mresize\u001B[0m\u001B[1;33m(\u001B[0m\u001B[0mframe\u001B[0m\u001B[1;33m,\u001B[0m \u001B[1;33m(\u001B[0m\u001B[0mself\u001B[0m\u001B[1;33m.\u001B[0m\u001B[0mwidth\u001B[0m\u001B[1;33m,\u001B[0m \u001B[0mself\u001B[0m\u001B[1;33m.\u001B[0m\u001B[0mheight\u001B[0m\u001B[1;33m)\u001B[0m\u001B[1;33m,\u001B[0m \u001B[0minterpolation\u001B[0m\u001B[1;33m=\u001B[0m\u001B[0mcv2\u001B[0m\u001B[1;33m.\u001B[0m\u001B[0mINTER_AREA\u001B[0m\u001B[1;33m)\u001B[0m\u001B[1;33m\u001B[0m\u001B[1;33m\u001B[0m\u001B[0m\n\u001B[0;32m    247\u001B[0m         \u001B[1;32mreturn\u001B[0m \u001B[0mframe\u001B[0m\u001B[1;33m[\u001B[0m\u001B[1;33m:\u001B[0m\u001B[1;33m,\u001B[0m \u001B[1;33m:\u001B[0m\u001B[1;33m,\u001B[0m \u001B[1;32mNone\u001B[0m\u001B[1;33m]\u001B[0m\u001B[1;33m\u001B[0m\u001B[1;33m\u001B[0m\u001B[0m\n",
      "\u001B[1;31merror\u001B[0m: OpenCV(4.10.0) d:\\a\\opencv-python\\opencv-python\\opencv\\modules\\imgproc\\src\\color.simd_helpers.hpp:92: error: (-2:Unspecified error) in function '__cdecl cv::impl::`anonymous-namespace'::CvtHelper<struct cv::impl::`anonymous namespace'::Set<3,4,-1>,struct cv::impl::A0x46dff480::Set<1,-1,-1>,struct cv::impl::A0x46dff480::Set<0,2,5>,4>::CvtHelper(const class cv::_InputArray &,const class cv::_OutputArray &,int)'\n> Invalid number of channels in input image:\n>     'VScn::contains(scn)'\n> where\n>     'scn' is 1\n"
     ]
    }
   ],
   "execution_count": 6
  },
  {
   "metadata": {
    "ExecuteTime": {
     "end_time": "2024-11-10T12:45:36.681718Z",
     "start_time": "2024-11-10T12:43:15.552614Z"
    }
   },
   "cell_type": "code",
   "source": [
    "# Create Evaluation CarRacing environment\n",
    "env = make_vec_env(env_str,\n",
    "                   n_envs=1,\n",
    "                   seed=0,\n",
    "                   env_kwargs=env_kwargs_dict,\n",
    "                   wrapper_class=wrapper_class)\n",
    "env = VecFrameStack(env, n_stack=4)\n",
    "env = VecTransposeImage(env)\n",
    "\n",
    "# Load the best model\n",
    "best_model_path = os.path.join(log_dir, \"best_model.zip\")\n",
    "best_model = DQN.load(best_model_path, env=env)\n",
    "\n",
    "mean_reward, std_reward = evaluate_policy(best_model, env, n_eval_episodes=20)\n",
    "print(f\"Best Model - Mean reward: {mean_reward:.2f} +/- {std_reward:.2f}\")\n",
    "\n",
    "# Record video of the best model playing CarRacing\n",
    "env = VecVideoRecorder(env, \"./videos/\",\n",
    "                       video_length=10000,\n",
    "                       record_video_trigger=lambda x: x == 0,\n",
    "                       name_prefix=\"best_model_car_racing_dqn\")\n",
    "\n",
    "obs = env.reset()\n",
    "for _ in range(10000):\n",
    "    action, _states = best_model.predict(obs)\n",
    "    obs, rewards, dones, info = env.step(action)\n",
    "    env.render()\n",
    "    if dones:\n",
    "        break\n",
    "\n",
    "env.close()"
   ],
   "id": "c9cd66d1ff4b13e2",
   "outputs": [
    {
     "name": "stdout",
     "output_type": "stream",
     "text": [
      "Best Model - Mean reward: -63.97 +/- 40.15\n",
      "Moviepy - Building video D:\\Programming\\IUT\\rl-carracing\\videos\\best_model_car_racing_dqn-step-0-to-step-10000.mp4.\n",
      "Moviepy - Writing video D:\\Programming\\IUT\\rl-carracing\\videos\\best_model_car_racing_dqn-step-0-to-step-10000.mp4\n",
      "\n"
     ]
    },
    {
     "name": "stderr",
     "output_type": "stream",
     "text": [
      "                                                                 "
     ]
    },
    {
     "name": "stdout",
     "output_type": "stream",
     "text": [
      "Moviepy - Done !\n",
      "Moviepy - video ready D:\\Programming\\IUT\\rl-carracing\\videos\\best_model_car_racing_dqn-step-0-to-step-10000.mp4\n"
     ]
    },
    {
     "name": "stderr",
     "output_type": "stream",
     "text": [
      "\r"
     ]
    }
   ],
   "execution_count": 6
  },
  {
   "metadata": {
    "ExecuteTime": {
     "end_time": "2024-11-10T12:46:29.280611Z",
     "start_time": "2024-11-10T12:46:29.136274Z"
    }
   },
   "cell_type": "code",
   "source": [
    "# Load the evaluations.npz file\n",
    "data = numpy.load(os.path.join(log_dir, \"evaluations.npz\"))\n",
    "\n",
    "# Extract the relevant data\n",
    "timesteps = data['timesteps']\n",
    "results = data['results']\n",
    "\n",
    "# Calculate the mean and standard deviation of the results\n",
    "mean_results = numpy.mean(results, axis=1)\n",
    "std_results = numpy.std(results, axis=1)\n",
    "\n",
    "# Plot the results\n",
    "matplotlib.pyplot.figure()\n",
    "matplotlib.pyplot.plot(timesteps, mean_results)\n",
    "matplotlib.pyplot.fill_between(timesteps,\n",
    "                               mean_results - std_results,\n",
    "                               mean_results + std_results,\n",
    "                               alpha=0.3)\n",
    "\n",
    "matplotlib.pyplot.xlabel(\"Timesteps\")\n",
    "matplotlib.pyplot.ylabel(\"Mean Reward\")\n",
    "matplotlib.pyplot.title(f\"DQN Performance on {env_str}\")\n",
    "matplotlib.pyplot.show()"
   ],
   "id": "e893901569048781",
   "outputs": [
    {
     "data": {
      "text/plain": [
       "<Figure size 640x480 with 1 Axes>"
      ],
      "image/png": "[encoded data removed]"
     },
     "metadata": {},
     "output_type": "display_data"
    }
   ],
   "execution_count": 8
  },
  {
   "metadata": {},
   "cell_type": "code",
   "outputs": [],
   "execution_count": null,
   "source": "",
   "id": "bba2534c4ae9e147"
  }
 ],
 "metadata": {
  "kernelspec": {
   "display_name": "Python 3",
   "language": "python",
   "name": "python3"
  },
  "language_info": {
   "codemirror_mode": {
    "name": "ipython",
    "version": 2
   },
   "file_extension": ".py",
   "mimetype": "text/x-python",
   "name": "python",
   "nbconvert_exporter": "python",
   "pygments_lexer": "ipython2",
   "version": "2.7.6"
  }
 },
 "nbformat": 4,
 "nbformat_minor": 5
}
